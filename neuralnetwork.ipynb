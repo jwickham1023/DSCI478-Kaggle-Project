{
 "cells": [
  {
   "cell_type": "code",
   "execution_count": 19,
   "metadata": {},
   "outputs": [],
   "source": [
    "import numpy as np\n",
    "import pandas as pd\n",
    "import matplotlib.pyplot as plt\n",
    "import seaborn as sns\n",
    "\n",
    "import sklearn as sk\n",
    "from sklearn.metrics import precision_score, recall_score, f1_score, accuracy_score\n",
    "\n",
    "import torch as t\n",
    "import torch.nn as nn\n",
    "import torch.nn.functional as F\n",
    "from torchvision import datasets, transforms"
   ]
  },
  {
   "cell_type": "markdown",
   "metadata": {},
   "source": [
    "## Feature engineering"
   ]
  },
  {
   "cell_type": "code",
   "execution_count": 2,
   "metadata": {},
   "outputs": [],
   "source": [
    "def is_weekend(datetime: pd.Timestamp) -> int:\n",
    "    return int(datetime.weekday() >= 5)\n",
    "\n",
    "def is_night(datetime: pd.Timestamp) -> int:\n",
    "    return int(datetime.hour < 6 or datetime.hour >= 22)"
   ]
  },
  {
   "cell_type": "code",
   "execution_count": 3,
   "metadata": {},
   "outputs": [],
   "source": [
    "df = pd.read_csv(\"combined_data.csv\")\n",
    "\n",
    "df[\"TX_DATETIME\"] = pd.to_datetime(df[\"TX_DATETIME\"])\n",
    "\n",
    "df[\"TX_IS_WEEKEND\"] = df[\"TX_DATETIME\"].apply(is_weekend)\n",
    "df[\"TX_AT_NIGHT\"] = df[\"TX_DATETIME\"].apply(is_night)\n",
    "\n",
    "df.drop([\"TX_DATETIME\"], axis=1, inplace=True)"
   ]
  },
  {
   "cell_type": "markdown",
   "metadata": {},
   "source": [
    "## Neural network setup"
   ]
  },
  {
   "cell_type": "code",
   "execution_count": 4,
   "metadata": {},
   "outputs": [
    {
     "name": "stdout",
     "output_type": "stream",
     "text": [
      "Using device: cpu\n"
     ]
    }
   ],
   "source": [
    "device = t.device(\"cuda\" if t.cuda.is_available() else \"cpu\")\n",
    "print(f\"Using device: {device}\")"
   ]
  },
  {
   "cell_type": "code",
   "execution_count": null,
   "metadata": {},
   "outputs": [],
   "source": [
    "class NeuralNetwork(nn.Module):\n",
    "    def __init__(self, input_size):\n",
    "        super(NeuralNetwork, self).__init__()\n",
    "        \n",
    "        self.n_features = input_size\n",
    "        self.layers = nn.ModuleList()\n",
    "        self.activations = nn.ModuleList()\n",
    "    \n",
    "    def add_layer(self, layer):\n",
    "        self.layers.append(layer)\n",
    "    \n",
    "    def add_activation(self, activation):\n",
    "        self.activations.append(activation)\n",
    "    \n",
    "    def forward(self, X):\n",
    "        for layer, activation in zip(self.layers, self.activations):\n",
    "            X = activation(layer(X))\n",
    "        return X"
   ]
  },
  {
   "cell_type": "code",
   "execution_count": 11,
   "metadata": {},
   "outputs": [],
   "source": [
    "X = df.drop([\"TX_FRAUD\", \"TX_FRAUD_SCENARIO\"], axis=1).values\n",
    "y = df[\"TX_FRAUD\"].values\n",
    "\n",
    "X_tensor = t.tensor(X, dtype=t.float32)\n",
    "y_tensor = t.tensor(y, dtype=t.long)\n",
    "\n",
    "dataset = t.utils.data.TensorDataset(X_tensor, y_tensor)\n",
    "dataloader = t.utils.data.DataLoader(dataset, batch_size=64, shuffle=True)"
   ]
  },
  {
   "cell_type": "code",
   "execution_count": 25,
   "metadata": {},
   "outputs": [],
   "source": [
    "model = NeuralNetwork(X.shape[1]).to(device)\n",
    "criterion = nn.CrossEntropyLoss()\n",
    "optimizer = t.optim.Adam(model.parameters(), lr=0.001)\n",
    "\n",
    "model.add_layer(nn.Linear(X.shape[1], 16))\n",
    "model.add_activation(nn.ReLU())\n",
    "model.add_layer(nn.Linear(16, 8))\n",
    "model.add_activation(nn.ReLU())"
   ]
  },
  {
   "cell_type": "markdown",
   "metadata": {},
   "source": [
    "## Performance"
   ]
  },
  {
   "cell_type": "code",
   "execution_count": 24,
   "metadata": {},
   "outputs": [
    {
     "name": "stdout",
     "output_type": "stream",
     "text": [
      "Epoch 1 loss: 363.1645779146053\n",
      "Epoch 2 loss: 0.08619671653690257\n",
      "Epoch 3 loss: 0.06728696891725848\n",
      "Epoch 4 loss: 0.06921932897561246\n",
      "Epoch 5 loss: 0.07582418370009147\n",
      "Accuracy: 0.9916307281853656\n"
     ]
    },
    {
     "name": "stderr",
     "output_type": "stream",
     "text": [
      "c:\\Python312\\Lib\\site-packages\\sklearn\\metrics\\_classification.py:1531: UndefinedMetricWarning: Precision is ill-defined and being set to 0.0 in labels with no predicted samples. Use `zero_division` parameter to control this behavior.\n",
      "  _warn_prf(average, modifier, f\"{metric.capitalize()} is\", len(result))\n"
     ]
    },
    {
     "name": "stdout",
     "output_type": "stream",
     "text": [
      "Precision: [0.99163073 0.        ]\n",
      "Recall: [1. 0.]\n",
      "F1: [0.99579778 0.        ]\n"
     ]
    }
   ],
   "source": [
    "epochs = 5\n",
    "\n",
    "for epoch in range(epochs):\n",
    "    running_loss = 0.0\n",
    "    for features, labels in dataloader:\n",
    "        optimizer.zero_grad()\n",
    "        \n",
    "        output = model(features)\n",
    "        loss = criterion(output, labels)\n",
    "        loss.backward()\n",
    "        optimizer.step()\n",
    "        \n",
    "        running_loss += loss.item()\n",
    "    print(f\"Epoch {epoch + 1} loss: {running_loss / len(dataloader)}\")\n",
    "\n",
    "all_labels = []\n",
    "all_predictions = []\n",
    "\n",
    "with t.no_grad():\n",
    "    for features, labels in dataloader:\n",
    "        output = model(features)\n",
    "        _, predicted = t.max(output, 1)\n",
    "        all_labels.extend(labels.numpy())\n",
    "        all_predictions.extend(predicted.numpy())\n",
    "        \n",
    "print(f\"Accuracy: {accuracy_score(all_labels, all_predictions, normalize=True)}\")\n",
    "print(f\"Precision: {precision_score(all_labels, all_predictions, average=None)}\")\n",
    "print(f\"Recall: {recall_score(all_labels, all_predictions, average=None)}\")\n",
    "print(f\"F1: {f1_score(all_labels, all_predictions, average=None)}\")"
   ]
  }
 ],
 "metadata": {
  "kernelspec": {
   "display_name": "Python 3",
   "language": "python",
   "name": "python3"
  },
  "language_info": {
   "codemirror_mode": {
    "name": "ipython",
    "version": 3
   },
   "file_extension": ".py",
   "mimetype": "text/x-python",
   "name": "python",
   "nbconvert_exporter": "python",
   "pygments_lexer": "ipython3",
   "version": "3.12.3"
  }
 },
 "nbformat": 4,
 "nbformat_minor": 2
}
