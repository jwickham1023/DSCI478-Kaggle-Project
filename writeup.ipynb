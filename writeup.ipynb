{
 "cells": [
  {
   "cell_type": "markdown",
   "metadata": {
    "tags": [
     "remove_cell"
    ]
   },
   "source": [
    "# DSCI478 Kaggle Project - Credit Card Fraud Detection\n",
    "### Nick Brady, Jakob Wickham"
   ]
  },
  {
   "cell_type": "markdown",
   "metadata": {},
   "source": [
    "Note for us:\n",
    "- If you want the PDF to not display a cell, click the three dots on the cell, click \"Add Cell Tag\", and put \"remove_cell\"\n",
    "- If you want to hide the code instead, put \"remove_input\""
   ]
  },
  {
   "cell_type": "code",
   "execution_count": 3,
   "metadata": {
    "tags": [
     "remove_cell"
    ]
   },
   "outputs": [],
   "source": [
    "import numpy as np\n",
    "import pandas as pd\n",
    "import matplotlib.pyplot as plt\n",
    "import seaborn as sns\n",
    "\n",
    "from sklearn.preprocessing import StandardScaler, MinMaxScaler\n",
    "from sklearn.neighbors import LocalOutlierFactor\n",
    "from sklearn.metrics import classification_report, accuracy_score, precision_score, recall_score, f1_score, average_precision_score, roc_auc_score\n",
    "from sklearn.model_selection import GridSearchCV\n",
    "from sklearn.ensemble import StackingClassifier\n",
    "from sklearn.linear_model import LogisticRegression\n",
    "from imblearn.ensemble import BalancedRandomForestClassifier\n",
    "from xgboost import XGBClassifier\n",
    "\n",
    "import warnings\n",
    "warnings.filterwarnings('ignore')"
   ]
  },
  {
   "cell_type": "code",
   "execution_count": 4,
   "metadata": {
    "tags": [
     "remove_cell"
    ]
   },
   "outputs": [],
   "source": [
    "df = pd.read_csv(\"combined_data.csv\")"
   ]
  },
  {
   "cell_type": "code",
   "execution_count": 5,
   "metadata": {
    "tags": [
     "remove_cell"
    ]
   },
   "outputs": [
    {
     "data": {
      "text/html": [
       "<div>\n",
       "<style scoped>\n",
       "    .dataframe tbody tr th:only-of-type {\n",
       "        vertical-align: middle;\n",
       "    }\n",
       "\n",
       "    .dataframe tbody tr th {\n",
       "        vertical-align: top;\n",
       "    }\n",
       "\n",
       "    .dataframe thead th {\n",
       "        text-align: right;\n",
       "    }\n",
       "</style>\n",
       "<table border=\"1\" class=\"dataframe\">\n",
       "  <thead>\n",
       "    <tr style=\"text-align: right;\">\n",
       "      <th></th>\n",
       "      <th>TRANSACTION_ID</th>\n",
       "      <th>TX_DATETIME</th>\n",
       "      <th>CUSTOMER_ID</th>\n",
       "      <th>TERMINAL_ID</th>\n",
       "      <th>TX_AMOUNT</th>\n",
       "      <th>TX_TIME_SECONDS</th>\n",
       "      <th>TX_TIME_DAYS</th>\n",
       "      <th>TX_FRAUD</th>\n",
       "      <th>TX_FRAUD_SCENARIO</th>\n",
       "    </tr>\n",
       "  </thead>\n",
       "  <tbody>\n",
       "    <tr>\n",
       "      <th>0</th>\n",
       "      <td>0</td>\n",
       "      <td>2018-04-01 00:00:31</td>\n",
       "      <td>596</td>\n",
       "      <td>3156</td>\n",
       "      <td>57.16</td>\n",
       "      <td>31</td>\n",
       "      <td>0</td>\n",
       "      <td>0</td>\n",
       "      <td>0</td>\n",
       "    </tr>\n",
       "    <tr>\n",
       "      <th>1</th>\n",
       "      <td>1</td>\n",
       "      <td>2018-04-01 00:02:10</td>\n",
       "      <td>4961</td>\n",
       "      <td>3412</td>\n",
       "      <td>81.51</td>\n",
       "      <td>130</td>\n",
       "      <td>0</td>\n",
       "      <td>0</td>\n",
       "      <td>0</td>\n",
       "    </tr>\n",
       "    <tr>\n",
       "      <th>2</th>\n",
       "      <td>2</td>\n",
       "      <td>2018-04-01 00:07:56</td>\n",
       "      <td>2</td>\n",
       "      <td>1365</td>\n",
       "      <td>146.00</td>\n",
       "      <td>476</td>\n",
       "      <td>0</td>\n",
       "      <td>0</td>\n",
       "      <td>0</td>\n",
       "    </tr>\n",
       "    <tr>\n",
       "      <th>3</th>\n",
       "      <td>3</td>\n",
       "      <td>2018-04-01 00:09:29</td>\n",
       "      <td>4128</td>\n",
       "      <td>8737</td>\n",
       "      <td>64.49</td>\n",
       "      <td>569</td>\n",
       "      <td>0</td>\n",
       "      <td>0</td>\n",
       "      <td>0</td>\n",
       "    </tr>\n",
       "    <tr>\n",
       "      <th>4</th>\n",
       "      <td>4</td>\n",
       "      <td>2018-04-01 00:10:34</td>\n",
       "      <td>927</td>\n",
       "      <td>9906</td>\n",
       "      <td>50.99</td>\n",
       "      <td>634</td>\n",
       "      <td>0</td>\n",
       "      <td>0</td>\n",
       "      <td>0</td>\n",
       "    </tr>\n",
       "    <tr>\n",
       "      <th>...</th>\n",
       "      <td>...</td>\n",
       "      <td>...</td>\n",
       "      <td>...</td>\n",
       "      <td>...</td>\n",
       "      <td>...</td>\n",
       "      <td>...</td>\n",
       "      <td>...</td>\n",
       "      <td>...</td>\n",
       "      <td>...</td>\n",
       "    </tr>\n",
       "    <tr>\n",
       "      <th>1754150</th>\n",
       "      <td>1754150</td>\n",
       "      <td>2018-09-30 23:56:36</td>\n",
       "      <td>161</td>\n",
       "      <td>655</td>\n",
       "      <td>54.24</td>\n",
       "      <td>15810996</td>\n",
       "      <td>182</td>\n",
       "      <td>0</td>\n",
       "      <td>0</td>\n",
       "    </tr>\n",
       "    <tr>\n",
       "      <th>1754151</th>\n",
       "      <td>1754151</td>\n",
       "      <td>2018-09-30 23:57:38</td>\n",
       "      <td>4342</td>\n",
       "      <td>6181</td>\n",
       "      <td>1.23</td>\n",
       "      <td>15811058</td>\n",
       "      <td>182</td>\n",
       "      <td>0</td>\n",
       "      <td>0</td>\n",
       "    </tr>\n",
       "    <tr>\n",
       "      <th>1754152</th>\n",
       "      <td>1754152</td>\n",
       "      <td>2018-09-30 23:58:21</td>\n",
       "      <td>618</td>\n",
       "      <td>1502</td>\n",
       "      <td>6.62</td>\n",
       "      <td>15811101</td>\n",
       "      <td>182</td>\n",
       "      <td>0</td>\n",
       "      <td>0</td>\n",
       "    </tr>\n",
       "    <tr>\n",
       "      <th>1754153</th>\n",
       "      <td>1754153</td>\n",
       "      <td>2018-09-30 23:59:52</td>\n",
       "      <td>4056</td>\n",
       "      <td>3067</td>\n",
       "      <td>55.40</td>\n",
       "      <td>15811192</td>\n",
       "      <td>182</td>\n",
       "      <td>0</td>\n",
       "      <td>0</td>\n",
       "    </tr>\n",
       "    <tr>\n",
       "      <th>1754154</th>\n",
       "      <td>1754154</td>\n",
       "      <td>2018-09-30 23:59:57</td>\n",
       "      <td>3542</td>\n",
       "      <td>9849</td>\n",
       "      <td>23.59</td>\n",
       "      <td>15811197</td>\n",
       "      <td>182</td>\n",
       "      <td>0</td>\n",
       "      <td>0</td>\n",
       "    </tr>\n",
       "  </tbody>\n",
       "</table>\n",
       "<p>1754155 rows × 9 columns</p>\n",
       "</div>"
      ],
      "text/plain": [
       "         TRANSACTION_ID          TX_DATETIME  CUSTOMER_ID  TERMINAL_ID  \\\n",
       "0                     0  2018-04-01 00:00:31          596         3156   \n",
       "1                     1  2018-04-01 00:02:10         4961         3412   \n",
       "2                     2  2018-04-01 00:07:56            2         1365   \n",
       "3                     3  2018-04-01 00:09:29         4128         8737   \n",
       "4                     4  2018-04-01 00:10:34          927         9906   \n",
       "...                 ...                  ...          ...          ...   \n",
       "1754150         1754150  2018-09-30 23:56:36          161          655   \n",
       "1754151         1754151  2018-09-30 23:57:38         4342         6181   \n",
       "1754152         1754152  2018-09-30 23:58:21          618         1502   \n",
       "1754153         1754153  2018-09-30 23:59:52         4056         3067   \n",
       "1754154         1754154  2018-09-30 23:59:57         3542         9849   \n",
       "\n",
       "         TX_AMOUNT  TX_TIME_SECONDS  TX_TIME_DAYS  TX_FRAUD  TX_FRAUD_SCENARIO  \n",
       "0            57.16               31             0         0                  0  \n",
       "1            81.51              130             0         0                  0  \n",
       "2           146.00              476             0         0                  0  \n",
       "3            64.49              569             0         0                  0  \n",
       "4            50.99              634             0         0                  0  \n",
       "...            ...              ...           ...       ...                ...  \n",
       "1754150      54.24         15810996           182         0                  0  \n",
       "1754151       1.23         15811058           182         0                  0  \n",
       "1754152       6.62         15811101           182         0                  0  \n",
       "1754153      55.40         15811192           182         0                  0  \n",
       "1754154      23.59         15811197           182         0                  0  \n",
       "\n",
       "[1754155 rows x 9 columns]"
      ]
     },
     "execution_count": 5,
     "metadata": {},
     "output_type": "execute_result"
    }
   ],
   "source": [
    "df"
   ]
  },
  {
   "cell_type": "markdown",
   "metadata": {},
   "source": [
    "# Introduction"
   ]
  },
  {
   "cell_type": "markdown",
   "metadata": {},
   "source": [
    "In 2024 alone, 134 million Americans have been victims of credit card fraud, with unauthorized purchases accounting for 6.2 billion dollars annually. This trend of fraud is on the rise in financial and business challenges. (Reference 1).  While consumers are generally protected from fraudulent transactions, the impact is beyond the negative experience; financial institutions and businesses bear the cost.\n",
    "\n",
    "To reduce these risks, financial institutions leverage Machine Learning (ML) and other statistical models to detect and prevent transactions from occurring. Creating effective fraud detection models has challenges, including correctly classifying fraudulent transactions, minimizing customer impact with false positives, and dealing with multiple fraud vectors.\n",
    "\n",
    "In this project, we will explore the process of creating a fraud detection model, the data set we used, feature engineering, model evaluation metrics, and the challenges of imbalanced data sets. Since fraudulent activity is rare, accuracy metrics are not applicable when determining model evaluation as they only give a score on how well it detects *non-fraud*. In this project we will be using precision, recall, F1 score and the Precision-Recall Curve (PR - AUC) to provide an accurate representation of the model given the challenges in the data set"
   ]
  },
  {
   "cell_type": "markdown",
   "metadata": {},
   "source": [
    "## The Dataset"
   ]
  },
  {
   "cell_type": "markdown",
   "metadata": {},
   "source": [
    "Due to the nature of the information for credit card purchases, we used a synthetic data set (References 2 & 3), which allows us to explore fraud detection techniques while also maintaining privacy and security concerns. At the end of this section is a list of the features."
   ]
  },
  {
   "cell_type": "markdown",
   "metadata": {},
   "source": [
    "This synthetic data can help us in research and model experimentation. It introduces limitations: the data may not reflect real world approaches that fraudsters use, customer transactions may lack variability, and `TX_FRAUD_SCENARIO` can create potential data leakage.\n",
    "With those limitations in mind, we want to be able to focus on building feature engineering and methods that can generalize well to actual scenarios. We must first explore the data cleaning and processing steps taken to prepare the data set for modeling."
   ]
  },
  {
   "cell_type": "markdown",
   "metadata": {},
   "source": [
    "\\begin{table}[h]\n",
    "    \\centering\n",
    "    \\begin{tabular}{| l | p{10cm} |}\n",
    "        \\hline\n",
    "        \\textbf{Feature} & \\textbf{Description} \\\\\n",
    "        \\hline\n",
    "        TRANSACTION\\_ID & A unique identifier for the transaction \\\\\n",
    "        \\hline\n",
    "        TX\\_DATETIME & Date and time at which the transaction occurs \\\\\n",
    "        \\hline\n",
    "        CUSTOMER\\_ID & The identifier for the customer. Each customer has a unique identifier \\\\\n",
    "        \\hline\n",
    "        TERMINAL\\_ID & The identifier for the merchant (or, more precisely, the terminal). Each terminal has a unique identifier \\\\\n",
    "        \\hline\n",
    "        TX\\_AMOUNT & The amount of the transaction \\\\\n",
    "        \\hline\n",
    "        TX\\_FRAUD & A binary variable with the value for a legitimate transaction or the value for a fraudulent transaction \\\\\n",
    "        \\hline\n",
    "        TX\\_TIME\\_SECONDS & Timestamp of transaction in seconds \\\\\n",
    "        \\hline\n",
    "        TX\\_TIME\\_DAYS & Timestamp of transaction in days \\\\\n",
    "        \\hline\n",
    "        TX\\_FRAUD\\_SCENARIO & Numerical indicator of the type of fraud scenario \\\\\n",
    "        \\hline\n",
    "    \\end{tabular}\n",
    "    \\caption{Transaction Features and Their Descriptions}\n",
    "    \\label{tab:transaction_features}\n",
    "\\end{table}"
   ]
  },
  {
   "cell_type": "markdown",
   "metadata": {},
   "source": [
    "# Data Cleaning and Preprocessing"
   ]
  },
  {
   "cell_type": "markdown",
   "metadata": {},
   "source": [
    "Before conducting exploratory data analysis and model development, we had to clean data and process the data.\n",
    "\n",
    "Since this data was synthetically generated, no missing (NaN) values were present. In the data, the `TX_FRAUD_SCENARIO` column was dropped to prevent data leakage as it contained information directly to the fraud classification. `TX_DATETIME` was transformed into multiple features--`TX_HOUR` (hour of the transaction) and `TX_DAYOFWEEK` (day of the transaction week)--to capture temporal patterns. Once that transformation was completed, `TX_DATETIME` was dropped due to redundant data.\n",
    "\n",
    "Completing these preprocessing steps ensure that the dataset was structured for feature extraction while also minimizing data leakage. Transforming `TX_DATETIME` allowed us to capture temporal fraud patterns. With these preprocessing steps done, the data set is now ready for exploratory data analysis (EDA), where we will be determining patterns in fraudulent and non-fraudulent transactions, key trends and assess potential predictive features."
   ]
  },
  {
   "cell_type": "code",
   "execution_count": 6,
   "metadata": {
    "tags": [
     "remove_cell"
    ]
   },
   "outputs": [],
   "source": [
    "# Load and Preprocess Data\n",
    "\n",
    "df.columns = df.columns.str.strip().str.upper()\n",
    "\n",
    "# Drop unnecessary column\n",
    "df.drop(columns=['TX_FRAUD_SCENARIO'], inplace=True)\n",
    "\n",
    "# Convert TX_DATETIME and extract key time features\n",
    "df['TX_DATETIME'] = pd.to_datetime(df['TX_DATETIME'])\n",
    "df['TX_HOUR'] = df['TX_DATETIME'].dt.hour\n",
    "df['TX_DAYOFWEEK'] = df['TX_DATETIME'].dt.dayofweek\n",
    "df.drop(columns=['TX_DATETIME'], inplace=True)\n",
    "\n",
    "\n",
    "# Time-Based Split\n",
    "split_point = df['TX_TIME_DAYS'].quantile(0.8)\n",
    "train_df = df[df['TX_TIME_DAYS'] < split_point].copy()\n",
    "test_df = df[df['TX_TIME_DAYS'] >= split_point].copy()"
   ]
  },
  {
   "cell_type": "markdown",
   "metadata": {},
   "source": [
    "# Exploratory Data Analysis"
   ]
  },
  {
   "cell_type": "markdown",
   "metadata": {},
   "source": [
    "Initially we performed basic data exploration to learn more about our data set. One of the first things in our exploration analysis that was noticeable was that the data set was highly imbalanced, with only fraudulent activity making up a small proportion of the total (which was a given considering we're working with fraud). Being aware of class balance is important as it affects model performance and evaluation metrics. Additionally, we analyzed the average transaction that customers typically make with their cards. With this information we wanted to determine if going above or below the average transaction was more likely fraudulent. Since this was a significant factor in fraud detection, we further explored whether a customer’s personal average carried more of a determining factor than global average (See Figure 1)."
   ]
  },
  {
   "cell_type": "code",
   "execution_count": 7,
   "metadata": {
    "tags": [
     "remove_input"
    ]
   },
   "outputs": [
    {
     "name": "stdout",
     "output_type": "stream",
     "text": [
      "                             Metric  Count Percentage\n",
      "0      Fraud Above Personal Average   2169      0.62%\n",
      "1  Fraud Not Above Personal Average   1303      0.38%\n"
     ]
    }
   ],
   "source": [
    "# Calculate the average non-fraud transaction amount for each customer\n",
    "customer_avg_amount = df.groupby(['CUSTOMER_ID'])['TX_AMOUNT'].mean().reset_index()\n",
    "\n",
    "# Calculate the average fraud transaction amount for each customer\n",
    "customer_avg_fraud_amount = df[df['TX_FRAUD'] == 1].groupby(['CUSTOMER_ID'])['TX_AMOUNT'].mean().reset_index()\n",
    "\n",
    "customer_avg_merged = pd.merge(customer_avg_amount, customer_avg_fraud_amount, how='inner', suffixes=('_nonfraud', '_fraud'), on='CUSTOMER_ID').fillna(0)\n",
    "\n",
    "customer_avg_merged[\"ABOVE_AVG\"] = customer_avg_merged[\"TX_AMOUNT_fraud\"] > customer_avg_merged[\"TX_AMOUNT_nonfraud\"]\n",
    "customer_avg_merged[\"BELOW_AVG\"] = ~customer_avg_merged[\"ABOVE_AVG\"]\n",
    "\n",
    "count_above = len(customer_avg_merged[customer_avg_merged[\"ABOVE_AVG\"]])\n",
    "count_below = len(customer_avg_merged[customer_avg_merged[\"BELOW_AVG\"]])\n",
    "percentage_above = len(customer_avg_merged[customer_avg_merged[\"ABOVE_AVG\"]]) / len(customer_avg_merged)\n",
    "percentage_below = len(customer_avg_merged[customer_avg_merged[\"BELOW_AVG\"]]) / len(customer_avg_merged)\n",
    "\n",
    "summary_table = pd.DataFrame({\n",
    "    'Metric': ['Fraud Above Personal Average', 'Fraud Not Above Personal Average'],\n",
    "    'Count': [count_above, count_below],\n",
    "    'Percentage': [f\"{percentage_above:.2f}%\", f\"{percentage_below:.2f}%\"]\n",
    "})\n",
    "\n",
    "print(summary_table)"
   ]
  },
  {
   "cell_type": "markdown",
   "metadata": {},
   "source": [
    "Our findings showed that incorporating a customer’s historical spending behavior improved the chance of finding fraudulent activity, which could show that people who commit fraud are trying to stay within the expected spending patterns of the individual."
   ]
  },
  {
   "cell_type": "markdown",
   "metadata": {},
   "source": [
    "We also investigated whether certain terminals were consistent with fraudulent activity (See Figure 2)."
   ]
  },
  {
   "cell_type": "code",
   "execution_count": 8,
   "metadata": {
    "tags": [
     "remove_input"
    ]
   },
   "outputs": [
    {
     "name": "stdout",
     "output_type": "stream",
     "text": [
      "fraud_pattern        Consecutive  Non-Consecutive\n",
      "Terminal_Count            323.00          1139.00\n",
      "Fraud_Count              7831.00          4030.00\n",
      "Terminal_Percentage        22.09            77.91\n",
      "Fraud_Percentage           66.02            33.98\n"
     ]
    }
   ],
   "source": [
    "fraud_df = df[df['TX_FRAUD'] == 1]\n",
    "\n",
    "# Extract unique fraud in the data\n",
    "fraud_dates_sorted = fraud_df[[\"TERMINAL_ID\", \"TX_TIME_DAYS\"]].drop_duplicates().sort_values([\"TERMINAL_ID\", \"TX_TIME_DAYS\"])\n",
    "\n",
    "# Calculate day differences between consecutive fraud events per terminal\n",
    "fraud_dates_sorted[\"PREV_DAY\"] = fraud_dates_sorted.groupby(\"TERMINAL_ID\")[\"TX_TIME_DAYS\"].shift(1)\n",
    "fraud_dates_sorted[\"DAY_DIFF\"] = fraud_dates_sorted[\"TX_TIME_DAYS\"] - fraud_dates_sorted[\"PREV_DAY\"]\n",
    "\n",
    "diffs = fraud_dates_sorted.dropna(subset=[\"DAY_DIFF\"])\n",
    "\n",
    "# Create a table to display the information\n",
    "terminal_gap_summary = diffs.groupby(\"TERMINAL_ID\").agg(\n",
    "    total_gaps=(\"DAY_DIFF\", \"count\"),\n",
    "    consecutive_gaps=(\"DAY_DIFF\", lambda x: (x == 1).sum())\n",
    ").reset_index()\n",
    "\n",
    "# Compute additional statistics\n",
    "terminal_gap_summary[\"gap_ratio\"] = terminal_gap_summary[\"consecutive_gaps\"] / terminal_gap_summary[\"total_gaps\"]\n",
    "terminal_gap_summary[\"non_consecutive_gaps\"] = terminal_gap_summary[\"total_gaps\"] - terminal_gap_summary[\"consecutive_gaps\"]\n",
    "\n",
    "# Classify fraud patterns\n",
    "terminal_gap_summary[\"fraud_pattern\"] = terminal_gap_summary[\"gap_ratio\"].apply(\n",
    "    lambda r: \"Consecutive\" if r >= 0.5 else \"Non-Consecutive\"\n",
    ")\n",
    "\n",
    "# Count fraud\n",
    "fraud_counts = fraud_df.groupby(\"TERMINAL_ID\").size().reset_index(name=\"fraud_count\")\n",
    "\n",
    "# Merge tables\n",
    "merged_summary = pd.merge(terminal_gap_summary, fraud_counts, on=\"TERMINAL_ID\", how=\"left\")\n",
    "\n",
    "# Compute summary statistics by fraud pattern\n",
    "pattern_summary = merged_summary.groupby(\"fraud_pattern\").agg(\n",
    "    Terminal_Count=(\"TERMINAL_ID\", \"count\"),\n",
    "    Fraud_Count=(\"fraud_count\", \"sum\"),\n",
    ").reset_index()\n",
    "\n",
    "# Compute additional statistics\n",
    "pattern_summary[\"Terminal_Percentage\"] = pattern_summary[\"Terminal_Count\"] / pattern_summary[\"Terminal_Count\"].sum() * 100\n",
    "pattern_summary[\"Fraud_Percentage\"] = pattern_summary[\"Fraud_Count\"] / pattern_summary[\"Fraud_Count\"].sum() * 100\n",
    "\n",
    "pattern_summary = pattern_summary.round(2)\n",
    "\n",
    "print(pattern_summary.set_index(\"fraud_pattern\").transpose())"
   ]
  },
  {
   "cell_type": "markdown",
   "metadata": {},
   "source": [
    "This revealed that a small number of terminals were responsible for a large portion of fraud, often occurring over consecutive days. However, there was no fixed pattern in the number of days fraud occurred and no clear distinction between whether a certain day should be a concern (See Figure 3)."
   ]
  },
  {
   "cell_type": "code",
   "execution_count": 9,
   "metadata": {
    "tags": [
     "remove_input"
    ]
   },
   "outputs": [
    {
     "data": {
      "image/png": "[encoded data removed]",
      "text/plain": [
       "<Figure size 800x400 with 1 Axes>"
      ]
     },
     "metadata": {},
     "output_type": "display_data"
    }
   ],
   "source": [
    "_, ax = plt.subplots(1, 1, figsize=(8,4))\n",
    "\n",
    "consecutive_counts = diffs[diffs[\"DAY_DIFF\"] == 1][\"TERMINAL_ID\"].value_counts()\n",
    "non_consecutive_counts = diffs[diffs[\"DAY_DIFF\"] > 1][\"TERMINAL_ID\"].value_counts()\n",
    "\n",
    "sns.set_theme(style=\"darkgrid\")\n",
    "sns.histplot(x=consecutive_counts, bins=30, kde=False, ax=ax, color=\"brown\")\n",
    "sns.histplot(x=non_consecutive_counts, bins=20, kde=False, ax=ax, color='skyblue')\n",
    "ax.set_xlim([0, max(consecutive_counts.max(), non_consecutive_counts.max())])\n",
    "ax.set(xlabel = \"Number of fraudulent transactions\", ylabel=\"Frequency\",\n",
    "       title=\"Distribution of Consecutive and Non-Consecutive Days Per Terminal\")\n",
    "ax.legend([\"Consecutive Days\", \"Non-Consecutive Days\"]);"
   ]
  },
  {
   "cell_type": "markdown",
   "metadata": {},
   "source": [
    "To address this, we had to implement a way in our classification approach that acknowledges that past fraudulent activity at a terminal is a strong factor, but not all future transactions at that terminal should be flagged as fraud.\n",
    "\n",
    "Our exploration analysis showed many key significant insights into fraud detection, which include class imbalance, transaction amount and terminal level indicators. Those findings gave us information that was necessary to implement our feature engineering and modeling approach to account for the customer and terminal behavior patterns and minimize our bias in our model."
   ]
  },
  {
   "cell_type": "markdown",
   "metadata": {},
   "source": [
    "# Feature Engineering"
   ]
  },
  {
   "cell_type": "markdown",
   "metadata": {},
   "source": [
    "To create a robust fraud detection, we engineered features that capture both population fraud trends and individual customer-based spending behaviors. This creates a model that can detect a wide range of fraud tactics while also identifying personalized anomalies that could indicate fraudulent activity at a customer level.\n",
    "\n",
    "Transaction amount serves as a critical indication in fraudulent activity. We applied a Z-score normalization to standardize transactions relative to the dataset mean, which ensures that large transaction values were flagged as unusual. However, some of the fraudulent activities attempted to fall within the customer expected ranges but still would appear abnormal compared to overall transaction patterns. Since specific terminals were exploited, we implemented rolling seven-and twenty-eight day rolling fraud rates. Acknowledging that a terminal who has had fraudulent activity doesn’t mean they will always be fraudulent we implemented an exponential decay factor to ensure old occurrences of fraud had a diminishing influence in our model and attempting to prevent model but still capturing consistent fraud risk. To further improve our population fraud trend, we implemented a Local Outlier Factor (LOF), and an unsupervised anomaly detection method that assigned a likelihood of fraud score based on its behavior. This method creates context-based detecting and maintains to not solely rely on extreme transaction values. During the feature engineering process we considered using an Isolation Forest for our unsupervised choice, but the anomaly score made our model rely on the Isolation Forest prediction, which reduced its ability to learn other fraudulent trends.\n",
    "\n",
    "Listed below shows all population-based features that were created."
   ]
  },
  {
   "cell_type": "markdown",
   "metadata": {},
   "source": [
    "\\begin{table}[h]\n",
    "    \\centering\n",
    "    \\begin{tabular}{| l | p{10cm} |}\n",
    "        \\hline\n",
    "        \\textbf{Feature} & \\textbf{Purpose} \\\\\n",
    "        \\hline\n",
    "        TX\\_AMOUNT\\_Z\\_Score & Check for extreme transaction amounts compared to data set's mean \\\\\n",
    "        \\hline\n",
    "        TX\\_AMOUNT\\_Percentile & Check transaction amounts relative to all others \\\\\n",
    "        \\hline\n",
    "        TERMINAL\\_FRAUD\\_RATIO & Terminal-level fraud check that decays over time \\\\\n",
    "        \\hline\n",
    "        ANOMALY\\_SCORE (LOF) & Unsupervised learning to apply a score beyond deviation of previous features \\\\\n",
    "        \\hline\n",
    "    \\end{tabular}\n",
    "    \\caption{Feature Description and Purpose}\n",
    "    \\label{tab:feature_purpose}\n",
    "\\end{table}"
   ]
  },
  {
   "cell_type": "markdown",
   "metadata": {},
   "source": [
    "The population-based trend provides a big picture view of our sample, but fraudulent transactions often are different from customer behavior rather than population norm. To recognize this, we engineered features that will adapt to each customer's unique spending habits instead of over relying on dataset wide fraud indicators. The key feature of detecting fraud at a customer level is track spending behavior over time. We computed a 14-day rolling window that tracks whether a customer suddenly makes a significant change in their spending habits. This can help with identifying fraud scenarios where fraudsters make large transactions over a short period, deviation from previous spending habits. We normalized the transaction amount based on each customer's historical data instead of the entire data set. This implementation prevents the model from flagging frequently high spending larger transactions, while still detecting unexpected large purchases from lower spending customers.\n",
    "\n",
    "The table below shows all customer-based features that were created."
   ]
  },
  {
   "cell_type": "markdown",
   "metadata": {},
   "source": [
    "\\begin{table}[h]\n",
    "    \\centering\n",
    "    \\begin{tabular}{| l | p{10cm} |}\n",
    "        \\hline\n",
    "        \\textbf{Customer-Based Features} & \\textbf{Purpose} \\\\\n",
    "        \\hline\n",
    "        SPENDING\\_RATIO\\_CHANGE & Checks for sudden shifts in customer spending behavior \\\\\n",
    "        \\hline\n",
    "        SPENDING\\_Z\\_SCORE\\_28D & Identifies how unusual a transaction is for a specific customer based on their historical spending patterns \\\\\n",
    "        \\hline\n",
    "    \\end{tabular}\n",
    "    \\caption{Customer-Based Features and Their Purpose}\n",
    "    \\label{tab:customer_features}\n",
    "\\end{table}"
   ]
  },
  {
   "cell_type": "markdown",
   "metadata": {},
   "source": [
    "By looking at both the population and customer-based fraud detection the purpose is to create a model that can identify fraud trends that are occurring at large scale but also adapting to customer level behavior. This combination with dynamic adjusting and personalized profiles attempts to create a fraud detection model that is both effective and adaptable at identifying ever changing fraud tactics.\n",
    "With the creation of these engineered features, we now will focus on model selection and evaluating different approaches at models to classify fraudulent activity effectively"
   ]
  },
  {
   "cell_type": "code",
   "execution_count": 10,
   "metadata": {
    "tags": [
     "remove_cell"
    ]
   },
   "outputs": [],
   "source": [
    "# Feature Engineering Rolling Windows with decay\n",
    "scaler = StandardScaler()\n",
    "train_df['TX_AMOUNT_Z_SCORE'] = scaler.fit_transform(train_df[['TX_AMOUNT']])\n",
    "test_df['TX_AMOUNT_Z_SCORE'] = scaler.transform(test_df[['TX_AMOUNT']])\n",
    "\n",
    "train_df['TX_AMOUNT_PERCENTILE'] = train_df['TX_AMOUNT'].rank(pct=True)\n",
    "test_df['TX_AMOUNT_PERCENTILE'] = test_df['TX_AMOUNT'].rank(pct=True)\n",
    "\n",
    "# Optimize Decay Factor \n",
    "decay_values = np.linspace(0.8, 0.99, 20)  \n",
    "best_decay, best_corr = 0.95, float('-inf')  \n",
    "\n",
    "for decay in decay_values:\n",
    "    temp_df = train_df.copy()\n",
    "    temp_df['TERMINAL_FRAUD_RATIO_28D'] = (\n",
    "        temp_df.groupby('TERMINAL_ID')['TX_FRAUD']\n",
    "        .shift(1)\n",
    "        .ewm(alpha=1-decay)\n",
    "        .mean()\n",
    "    )\n",
    "    correlation = temp_df['TERMINAL_FRAUD_RATIO_28D'].corr(temp_df['TX_FRAUD'])\n",
    "    \n",
    "    if correlation > best_corr:\n",
    "        best_corr = correlation\n",
    "        best_decay = decay\n",
    "\n",
    "optimal_decay = best_decay  # Best decay factor based on correlation\n",
    "\n",
    "# Apply the optimized decay factor\n",
    "train_df['TERMINAL_FRAUD_RATIO_28D'] = (\n",
    "    train_df.groupby('TERMINAL_ID')['TX_FRAUD']\n",
    "    .shift(1)\n",
    "    .ewm(alpha=1-optimal_decay)\n",
    "    .mean()\n",
    ")\n",
    "test_df['TERMINAL_FRAUD_RATIO_28D'] = (\n",
    "    test_df.groupby('TERMINAL_ID')['TX_FRAUD']\n",
    "    .shift(1)\n",
    "    .ewm(alpha=1-optimal_decay)\n",
    "    .mean()\n",
    ")\n",
    "\n",
    "# Terminal Fraud Ratios\n",
    "train_df['TERMINAL_FRAUD_RATIO_7D'] = (\n",
    "    train_df.groupby('TERMINAL_ID')['TX_FRAUD']\n",
    "    .shift(1)\n",
    "    .rolling(7, min_periods=1)\n",
    "    .mean()\n",
    ")\n",
    "test_df['TERMINAL_FRAUD_RATIO_7D'] = (\n",
    "    test_df.groupby('TERMINAL_ID')['TX_FRAUD']\n",
    "    .shift(1)\n",
    "    .rolling(7, min_periods=1)\n",
    "    .mean()\n",
    ")\n",
    "\n",
    "# Customer Spending Trends\n",
    "train_df['SPENDING_RATIO_CHANGE'] = (\n",
    "    train_df.groupby('CUSTOMER_ID')['TX_AMOUNT']\n",
    "    .transform(lambda x: x.pct_change().rolling(14, min_periods=1).mean())\n",
    ")\n",
    "test_df['SPENDING_RATIO_CHANGE'] = (\n",
    "    test_df.groupby('CUSTOMER_ID')['TX_AMOUNT']\n",
    "    .transform(lambda x: x.pct_change().rolling(14, min_periods=1).mean())\n",
    ")\n",
    "\n",
    "train_df['SPENDING_Z_SCORE_28D'] = (\n",
    "    train_df.groupby('CUSTOMER_ID')['TX_AMOUNT']\n",
    "    .transform(lambda x: (x - x.mean()) / (x.std() + 1))\n",
    ")\n",
    "test_df['SPENDING_Z_SCORE_28D'] = (\n",
    "    test_df.groupby('CUSTOMER_ID')['TX_AMOUNT']\n",
    "    .transform(lambda x: (x - x.mean()) / (x.std() + 1))\n",
    ")\n",
    "\n",
    "\n",
    "# Anomaly Detection (Local Outlier Factor)\n",
    "features_for_lof = ['TX_AMOUNT_Z_SCORE', 'SPENDING_RATIO_CHANGE', 'TERMINAL_FRAUD_RATIO_28D']\n",
    "train_df[features_for_lof] = train_df[features_for_lof].fillna(train_df[features_for_lof].median())\n",
    "test_df[features_for_lof] = test_df[features_for_lof].fillna(test_df[features_for_lof].median())\n",
    "\n",
    "lof = LocalOutlierFactor(n_neighbors=20, contamination=0.005, novelty=True)\n",
    "lof.fit(train_df[features_for_lof].values)\n",
    "\n",
    "train_df['ANOMALY_SCORE'] = lof.decision_function(train_df[features_for_lof].values)\n",
    "test_df['ANOMALY_SCORE'] = lof.decision_function(test_df[features_for_lof].values)\n",
    "\n",
    "# Normalize Anomaly Scores\n",
    "scaler = MinMaxScaler()\n",
    "train_df['ANOMALY_SCORE'] = scaler.fit_transform(train_df[['ANOMALY_SCORE']])\n",
    "test_df['ANOMALY_SCORE'] = scaler.transform(test_df[['ANOMALY_SCORE']])"
   ]
  },
  {
   "cell_type": "code",
   "execution_count": 11,
   "metadata": {
    "tags": [
     "remove_cell"
    ]
   },
   "outputs": [],
   "source": [
    "engineered_features = ['TX_AMOUNT_Z_SCORE',\n",
    "                       'TX_AMOUNT_PERCENTILE',\n",
    "                       'TERMINAL_FRAUD_RATIO_7D',\n",
    "                       'TERMINAL_FRAUD_RATIO_28D',\n",
    "                       'SPENDING_RATIO_CHANGE',\n",
    "                       'SPENDING_Z_SCORE_28D',\n",
    "                       'ANOMALY_SCORE']\n",
    "\n",
    "for feature in engineered_features:\n",
    "    median_value = train_df[feature].median()\n",
    "    train_df[feature] = train_df[feature].fillna(median_value)\n",
    "    test_df[feature] = test_df[feature].fillna(median_value)"
   ]
  },
  {
   "cell_type": "markdown",
   "metadata": {},
   "source": [
    "# Model Selection"
   ]
  },
  {
   "cell_type": "markdown",
   "metadata": {},
   "source": [
    "*Isolation Forest, Balanced Random Forest, etc*"
   ]
  },
  {
   "cell_type": "markdown",
   "metadata": {},
   "source": [
    "# Model Training and Evaluation"
   ]
  },
  {
   "cell_type": "markdown",
   "metadata": {},
   "source": [
    "Let's talk a little bit about how we're going to be scoring our models. We'll be using 4 scores to determine how well our models perform: Precision, Recall, F1, and a PR-AUC score.\n",
    "\n",
    "- Precision: Correctly identified fraudulent cases across all *classified* fraudulent cases\n",
    "- Recall: Correctly identified fraudulent cases across all *truly* fraudulent cases\n",
    "- F1: A metric providing a balanced measure of the harmonic mean of precision and recall\n",
    "- PR-AUC: The model's ability to distinguish between classes\n",
    "\n",
    "We won't be working with accuracy scores as with imbalanced data, accuracy scores tend to mislead people into believing the model fits the data well by reporting high numbers, when in reality it's only that high because it can accurately predict the *majority* class while being horrible at accurately predicting the *minority* class."
   ]
  },
  {
   "cell_type": "code",
   "execution_count": 12,
   "metadata": {
    "tags": [
     "remove_cell"
    ]
   },
   "outputs": [],
   "source": [
    "def model_run(model: XGBClassifier | StackingClassifier):\n",
    "    # Train the model\n",
    "    model.fit(train_df[engineered_features], train_df['TX_FRAUD'])\n",
    "    \n",
    "    # Predictions\n",
    "    y_pred = model.predict(test_df[engineered_features])\n",
    "    y_scores = model.predict_proba(test_df[engineered_features])[:,1]\n",
    "\n",
    "    precision = precision_score(test_df['TX_FRAUD'], y_pred)\n",
    "    recall = recall_score(test_df['TX_FRAUD'], y_pred)\n",
    "    f1 = f1_score(test_df['TX_FRAUD'], y_pred)\n",
    "    pr_auc = average_precision_score(test_df['TX_FRAUD'], y_scores)\n",
    "\n",
    "    print(\"Classification Report:\\n\", classification_report(test_df['TX_FRAUD'], y_pred))\n",
    "    print(f\"PR-AUC: {pr_auc:.4f}\")"
   ]
  },
  {
   "cell_type": "markdown",
   "metadata": {},
   "source": [
    "## Balanced Random Forest (BRF)"
   ]
  },
  {
   "cell_type": "markdown",
   "metadata": {},
   "source": [
    "### Base Dataset"
   ]
  },
  {
   "cell_type": "markdown",
   "metadata": {},
   "source": [
    "Considering that we decided to feature-engineer the dataset to the point where none of the original features were left being used by our models, how well does the original dataset perform with one of our models? Was the feature engineering all for naught?"
   ]
  },
  {
   "cell_type": "code",
   "execution_count": 13,
   "metadata": {
    "tags": [
     "remove_input"
    ]
   },
   "outputs": [
    {
     "name": "stdout",
     "output_type": "stream",
     "text": [
      "Classification Report:\n",
      "               precision    recall  f1-score   support\n",
      "\n",
      "           0       0.99      0.82      0.90    351466\n",
      "           1       0.02      0.43      0.04      3177\n",
      "\n",
      "    accuracy                           0.82    354643\n",
      "   macro avg       0.51      0.63      0.47    354643\n",
      "weighted avg       0.99      0.82      0.89    354643\n",
      "\n",
      "PR-AUC: 0.2375\n"
     ]
    }
   ],
   "source": [
    "split_point = df['TX_TIME_DAYS'].quantile(0.8)\n",
    "base_train_df = df[df['TX_TIME_DAYS'] < split_point].copy()\n",
    "base_test_df = df[df['TX_TIME_DAYS'] >= split_point].copy()\n",
    "\n",
    "# Extract features and target variable\n",
    "base_features = ['CUSTOMER_ID', 'TERMINAL_ID', 'TX_AMOUNT', 'TX_TIME_SECONDS', 'TX_TIME_DAYS', 'TX_HOUR', 'TX_DAYOFWEEK']\n",
    "target = 'TX_FRAUD'\n",
    "\n",
    "X_train, y_train = base_train_df[base_features], base_train_df[target]\n",
    "X_test, y_test = base_test_df[base_features], base_test_df[target]\n",
    "\n",
    "# Initialize Balanced Random Forest\n",
    "base_brf_model = BalancedRandomForestClassifier(n_estimators=100, random_state=42, n_jobs=-1)\n",
    "\n",
    "# Train the model\n",
    "base_brf_model.fit(X_train, y_train)\n",
    "\n",
    "# Predictions\n",
    "y_pred = base_brf_model.predict(X_test)\n",
    "y_proba = base_brf_model.predict_proba(X_test)[:, 1]  # Get probability scores for ROC-AUC\n",
    "\n",
    "# Evaluate model performance\n",
    "print(\"Classification Report:\\n\", classification_report(y_test, y_pred))\n",
    "print(\"PR-AUC:\", average_precision_score(y_test, y_proba).round(4))"
   ]
  },
  {
   "cell_type": "markdown",
   "metadata": {},
   "source": [
    "With a precision rate of 0.02, recall rate of 0.43, and F1 score of 0.04, no, the feature engineering is very much necessary."
   ]
  },
  {
   "cell_type": "markdown",
   "metadata": {},
   "source": [
    "### Feature-Engineered Dataset"
   ]
  },
  {
   "cell_type": "code",
   "execution_count": 14,
   "metadata": {
    "tags": [
     "remove_input"
    ]
   },
   "outputs": [
    {
     "name": "stdout",
     "output_type": "stream",
     "text": [
      "Classification Report:\n",
      "               precision    recall  f1-score   support\n",
      "\n",
      "           0       1.00      0.98      0.99    351466\n",
      "           1       0.31      0.89      0.46      3177\n",
      "\n",
      "    accuracy                           0.98    354643\n",
      "   macro avg       0.65      0.94      0.72    354643\n",
      "weighted avg       0.99      0.98      0.99    354643\n",
      "\n",
      "PR-AUC: 0.6857\n"
     ]
    }
   ],
   "source": [
    "brf_model = BalancedRandomForestClassifier(n_estimators=500, max_depth=15, random_state=42, class_weight='balanced_subsample')\n",
    "\n",
    "model_run(brf_model)"
   ]
  },
  {
   "cell_type": "markdown",
   "metadata": {},
   "source": [
    "## XGBoost"
   ]
  },
  {
   "cell_type": "code",
   "execution_count": 15,
   "metadata": {
    "tags": [
     "remove_input"
    ]
   },
   "outputs": [
    {
     "name": "stdout",
     "output_type": "stream",
     "text": [
      "Classification Report:\n",
      "               precision    recall  f1-score   support\n",
      "\n",
      "           0       1.00      0.99      0.99    351466\n",
      "           1       0.36      0.86      0.50      3177\n",
      "\n",
      "    accuracy                           0.98    354643\n",
      "   macro avg       0.68      0.92      0.75    354643\n",
      "weighted avg       0.99      0.98      0.99    354643\n",
      "\n",
      "PR-AUC: 0.5868\n"
     ]
    }
   ],
   "source": [
    "# Make weights\n",
    "neg_count = train_df['TX_FRAUD'].value_counts()[0]\n",
    "pos_count = train_df['TX_FRAUD'].value_counts()[1]\n",
    "scale_pos_weight = neg_count / pos_count\n",
    "\n",
    "# Run XGBoost\n",
    "xgb_model: XGBClassifier = XGBClassifier()\n",
    "xgb_model.objective = 'binary:logistic'\n",
    "xgb_model.scale_pos_weight = scale_pos_weight\n",
    "\n",
    "model_run(xgb_model)"
   ]
  },
  {
   "cell_type": "code",
   "execution_count": 16,
   "metadata": {
    "tags": [
     "remove_input"
    ]
   },
   "outputs": [],
   "source": [
    "param_grid = {\n",
    "    'n_estimators': [100, 200],\n",
    "    'max_depth': [3, 5, 7],\n",
    "    'learning_rate': [0.01, 0.1, 0.2],\n",
    "    'subsample': [0.8, 1.0],\n",
    "    'colsample_bytree': [0.8, 1.0]\n",
    "}\n",
    "\n",
    "# grid_search = GridSearchCV(xgb_model, param_grid, scoring='average_precision', cv=3, n_jobs=3)\n",
    "# grid_search.fit(train_df[features], train_df['TX_FRAUD'])\n",
    "\n",
    "# best_xgb = grid_search.best_estimator_\n",
    "\n",
    "# model_run(best_xgb)"
   ]
  },
  {
   "cell_type": "markdown",
   "metadata": {},
   "source": [
    "## Stacking BRF and XGBoost"
   ]
  },
  {
   "cell_type": "code",
   "execution_count": null,
   "metadata": {
    "tags": [
     "remove_input"
    ]
   },
   "outputs": [],
   "source": [
    "meta_model = LogisticRegression()\n",
    "\n",
    "stacking_model = StackingClassifier(\n",
    "    estimators=[\n",
    "        ('brf', brf_model),\n",
    "        ('xgb', xgb_model)\n",
    "    ],\n",
    "    final_estimator=meta_model,\n",
    "    passthrough=True\n",
    ")\n",
    "\n",
    "model_run(stacking_model)"
   ]
  },
  {
   "cell_type": "markdown",
   "metadata": {},
   "source": [
    "# Model Interpretation and Explainability"
   ]
  },
  {
   "cell_type": "markdown",
   "metadata": {},
   "source": [
    "- Talk about the Scenarios here\n",
    "    - Which scenarios did each model miss \n",
    "- Pull feature importance\n",
    "- What scenarios did the model miss  \n",
    "- Talk about each model's performance \n",
    "- All Together\n",
    "    - Are there similarities in feature use \n",
    "    - Does our feature engineering align with fraud indicators \n",
    "- Talk about Interpretability vs Accuracy Debate once again"
   ]
  },
  {
   "cell_type": "code",
   "execution_count": null,
   "metadata": {
    "tags": [
     "remove_input"
    ]
   },
   "outputs": [],
   "source": [
    "_, ax = plt.subplots(2, 1, figsize=(12, 12))\n",
    "\n",
    "brf_importances = pd.DataFrame({'Features': engineered_features, 'BRF': brf_model.feature_importances_})\n",
    "xgb_importances = pd.DataFrame({'Features': engineered_features, 'XGB': xgb_model.feature_importances_})\n",
    "\n",
    "sns.barplot(y=\"Features\", x=\"BRF\", ax=ax[0], data=brf_importances.sort_values(by=\"BRF\", ascending=False))\n",
    "ax[0].set(xlabel = \"Feature Importance Score (BRF)\", ylabel=\"Features\")\n",
    "sns.barplot(y=\"Features\", x=\"XGB\", ax=ax[1], data=xgb_importances.sort_values(by=\"XGB\", ascending=False))\n",
    "ax[1].set(xlabel = \"Feature Importance Score (XGB)\", ylabel=\"Features\");"
   ]
  },
  {
   "cell_type": "code",
   "execution_count": null,
   "metadata": {
    "tags": [
     "remove_cell"
    ]
   },
   "outputs": [],
   "source": [
    "df2 = pd.concat([train_df, test_df], axis=0)"
   ]
  },
  {
   "cell_type": "code",
   "execution_count": null,
   "metadata": {
    "tags": [
     "remove_input"
    ]
   },
   "outputs": [],
   "source": [
    "_, ax = plt.subplots(2, 1, figsize=(8, 8))\n",
    "_.tight_layout(h_pad=4)\n",
    "sns.set_theme(style=\"darkgrid\")\n",
    "\n",
    "sns.histplot(data=df2[df2['TX_FRAUD'] == 0], x='SPENDING_Z_SCORE_28D', ax=ax[0], color='cornflowerblue')\n",
    "ax[0].set(xlabel = \"Customer Spending Z-Scores\", ylabel=\"Count\",\n",
    "          title=\"Distribution of Customer Spending Z-Scores within a 28-Day Rolling Window for Non-Fraudulent Transactions\");\n",
    "sns.histplot(data=df2[df2['TX_FRAUD'] == 1], x='SPENDING_Z_SCORE_28D', ax=ax[1], color='tomato')\n",
    "ax[1].set(xlabel = \"Customer Spending Z-Scores\", ylabel=\"Count\",\n",
    "          title=\"Distribution of Customer Spending Z-Scores within a 28-Day Rolling Window for Fraudulent Transactions\");"
   ]
  },
  {
   "cell_type": "markdown",
   "metadata": {},
   "source": [
    "# Conclusion"
   ]
  },
  {
   "cell_type": "markdown",
   "metadata": {},
   "source": [
    "- What could we change and improve upon \n",
    "    - Strengths \n",
    "    - Key Takeaways \n",
    "    - Additional real time features?\n",
    "- Talk about the challenges we faced \n",
    "    - Did Certain fraud patterns remain undetected \n",
    "- Talk about if we choose to implement this into real world\n",
    "    - How can it be used \n",
    "    - Impact on customers \n",
    "    - Could this be deployed \n",
    "    - How much human interaction would be necessary due to this implementation  "
   ]
  },
  {
   "cell_type": "markdown",
   "metadata": {},
   "source": [
    "# References"
   ]
  },
  {
   "cell_type": "markdown",
   "metadata": {},
   "source": [
    "TODO: Figure out how to wrap text"
   ]
  },
  {
   "cell_type": "markdown",
   "metadata": {},
   "source": [
    "- https://www.security.org/digital-safety/credit-card-fraud-report/\n",
    "- https://www.kaggle.com/datasets/mlg-ulb/creditcardfraud\n",
    "- https://fraud-detection-handbook.github.io/fraud-detection-handbook/Chapter_3_GettingStarted/SimulatedDataset.html\n",
    "- https://www.aporia.com/learn/ultimate-guide-to-precision-recall-auc-understanding-calculating-using-pr-auc-in-ml/"
   ]
  }
 ],
 "metadata": {
  "kernelspec": {
   "display_name": "base",
   "language": "python",
   "name": "python3"
  },
  "language_info": {
   "codemirror_mode": {
    "name": "ipython",
    "version": 3
   },
   "file_extension": ".py",
   "mimetype": "text/x-python",
   "name": "python",
   "nbconvert_exporter": "python",
   "pygments_lexer": "ipython3",
   "version": "3.12.7"
  }
 },
 "nbformat": 4,
 "nbformat_minor": 2
}
