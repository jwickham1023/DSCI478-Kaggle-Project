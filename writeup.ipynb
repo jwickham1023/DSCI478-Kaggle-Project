{
 "cells": [
  {
   "cell_type": "markdown",
   "metadata": {
    "tags": [
     "remove_cell"
    ]
   },
   "source": [
    "# DSCI478 Kaggle Project - Credit Card Fraud Detection\n",
    "### Nick Brady, Jakob Wickham"
   ]
  },
  {
   "cell_type": "markdown",
   "metadata": {
    "tags": [
     "remove_cell"
    ]
   },
   "source": [
    "Note for us:\n",
    "- If you want the PDF to not display a cell, click the three dots on the cell, click \"Add Cell Tag\", and put \"remove_cell\"\n",
    "- If you want to hide the code instead, put \"remove_input\""
   ]
  },
  {
   "cell_type": "code",
   "execution_count": 49,
   "metadata": {
    "tags": [
     "remove_cell"
    ]
   },
   "outputs": [],
   "source": [
    "import numpy as np\n",
    "import pandas as pd\n",
    "import matplotlib.pyplot as plt\n",
    "import seaborn as sns\n",
    "\n",
    "from sklearn.preprocessing import StandardScaler, MinMaxScaler\n",
    "from sklearn.neighbors import LocalOutlierFactor\n",
    "from sklearn.metrics import classification_report, confusion_matrix, precision_score, recall_score, f1_score, average_precision_score, roc_auc_score\n",
    "from sklearn.model_selection import GridSearchCV\n",
    "from sklearn.ensemble import StackingClassifier\n",
    "from sklearn.linear_model import LogisticRegression\n",
    "from imblearn.ensemble import BalancedRandomForestClassifier\n",
    "from xgboost import XGBClassifier\n",
    "\n",
    "import warnings\n",
    "warnings.filterwarnings('ignore')"
   ]
  },
  {
   "cell_type": "code",
   "execution_count": 50,
   "metadata": {
    "tags": [
     "remove_cell"
    ]
   },
   "outputs": [],
   "source": [
    "df = pd.read_csv(\"combined_data.csv\")"
   ]
  },
  {
   "cell_type": "code",
   "execution_count": 51,
   "metadata": {
    "tags": [
     "remove_cell"
    ]
   },
   "outputs": [
    {
     "data": {
      "application/vnd.microsoft.datawrangler.viewer.v0+json": {
       "columns": [
        {
         "name": "index",
         "rawType": "int64",
         "type": "integer"
        },
        {
         "name": "TRANSACTION_ID",
         "rawType": "int64",
         "type": "integer"
        },
        {
         "name": "TX_DATETIME",
         "rawType": "object",
         "type": "string"
        },
        {
         "name": "CUSTOMER_ID",
         "rawType": "int64",
         "type": "integer"
        },
        {
         "name": "TERMINAL_ID",
         "rawType": "int64",
         "type": "integer"
        },
        {
         "name": "TX_AMOUNT",
         "rawType": "float64",
         "type": "float"
        },
        {
         "name": "TX_TIME_SECONDS",
         "rawType": "int64",
         "type": "integer"
        },
        {
         "name": "TX_TIME_DAYS",
         "rawType": "int64",
         "type": "integer"
        },
        {
         "name": "TX_FRAUD",
         "rawType": "int64",
         "type": "integer"
        },
        {
         "name": "TX_FRAUD_SCENARIO",
         "rawType": "int64",
         "type": "integer"
        }
       ],
       "conversionMethod": "pd.DataFrame",
       "ref": "df3369ea-3c0a-4584-a257-4e409590bdcd",
       "rows": [
        [
         "0",
         "0",
         "2018-04-01 00:00:31",
         "596",
         "3156",
         "57.16",
         "31",
         "0",
         "0",
         "0"
        ],
        [
         "1",
         "1",
         "2018-04-01 00:02:10",
         "4961",
         "3412",
         "81.51",
         "130",
         "0",
         "0",
         "0"
        ],
        [
         "2",
         "2",
         "2018-04-01 00:07:56",
         "2",
         "1365",
         "146.0",
         "476",
         "0",
         "0",
         "0"
        ],
        [
         "3",
         "3",
         "2018-04-01 00:09:29",
         "4128",
         "8737",
         "64.49",
         "569",
         "0",
         "0",
         "0"
        ],
        [
         "4",
         "4",
         "2018-04-01 00:10:34",
         "927",
         "9906",
         "50.99",
         "634",
         "0",
         "0",
         "0"
        ],
        [
         "5",
         "5",
         "2018-04-01 00:10:45",
         "568",
         "8803",
         "44.71",
         "645",
         "0",
         "0",
         "0"
        ],
        [
         "6",
         "6",
         "2018-04-01 00:11:30",
         "2803",
         "5490",
         "96.03",
         "690",
         "0",
         "0",
         "0"
        ],
        [
         "7",
         "7",
         "2018-04-01 00:11:44",
         "4684",
         "2486",
         "24.36",
         "704",
         "0",
         "0",
         "0"
        ],
        [
         "8",
         "8",
         "2018-04-01 00:11:53",
         "4128",
         "8354",
         "26.34",
         "713",
         "0",
         "0",
         "0"
        ],
        [
         "9",
         "9",
         "2018-04-01 00:13:44",
         "541",
         "6212",
         "59.07",
         "824",
         "0",
         "0",
         "0"
        ],
        [
         "10",
         "10",
         "2018-04-01 00:16:59",
         "4554",
         "2198",
         "58.06",
         "1019",
         "0",
         "0",
         "0"
        ],
        [
         "11",
         "11",
         "2018-04-01 00:17:44",
         "2000",
         "7997",
         "66.38",
         "1064",
         "0",
         "0",
         "0"
        ],
        [
         "12",
         "12",
         "2018-04-01 00:18:01",
         "1948",
         "3372",
         "54.51",
         "1081",
         "0",
         "0",
         "0"
        ],
        [
         "13",
         "13",
         "2018-04-01 00:19:22",
         "2938",
         "1516",
         "22.0",
         "1162",
         "0",
         "0",
         "0"
        ],
        [
         "14",
         "14",
         "2018-04-01 00:19:49",
         "2989",
         "4111",
         "28.42",
         "1189",
         "0",
         "0",
         "0"
        ],
        [
         "15",
         "15",
         "2018-04-01 00:20:03",
         "3842",
         "1693",
         "26.23",
         "1203",
         "0",
         "0",
         "0"
        ],
        [
         "16",
         "16",
         "2018-04-01 00:20:25",
         "4361",
         "4322",
         "92.69",
         "1225",
         "0",
         "0",
         "0"
        ],
        [
         "17",
         "17",
         "2018-04-01 00:20:40",
         "4177",
         "6270",
         "65.15",
         "1240",
         "0",
         "0",
         "0"
        ],
        [
         "18",
         "18",
         "2018-04-01 00:20:48",
         "3700",
         "471",
         "87.38",
         "1248",
         "0",
         "0",
         "0"
        ],
        [
         "19",
         "19",
         "2018-04-01 00:21:06",
         "3671",
         "4223",
         "68.98",
         "1266",
         "0",
         "0",
         "0"
        ],
        [
         "20",
         "20",
         "2018-04-01 00:21:09",
         "1270",
         "931",
         "140.75",
         "1269",
         "0",
         "0",
         "0"
        ],
        [
         "21",
         "21",
         "2018-04-01 00:22:14",
         "2899",
         "6019",
         "36.58",
         "1334",
         "0",
         "0",
         "0"
        ],
        [
         "22",
         "22",
         "2018-04-01 00:23:32",
         "4582",
         "7998",
         "48.3",
         "1412",
         "0",
         "0",
         "0"
        ],
        [
         "23",
         "23",
         "2018-04-01 00:25:24",
         "508",
         "9687",
         "139.45",
         "1524",
         "0",
         "0",
         "0"
        ],
        [
         "24",
         "24",
         "2018-04-01 00:26:37",
         "2323",
         "1257",
         "63.19",
         "1597",
         "0",
         "0",
         "0"
        ],
        [
         "25",
         "25",
         "2018-04-01 00:26:54",
         "1152",
         "8621",
         "54.08",
         "1614",
         "0",
         "0",
         "0"
        ],
        [
         "26",
         "26",
         "2018-04-01 00:27:02",
         "2389",
         "9739",
         "36.91",
         "1622",
         "0",
         "0",
         "0"
        ],
        [
         "27",
         "27",
         "2018-04-01 00:27:27",
         "967",
         "9401",
         "74.32",
         "1647",
         "0",
         "0",
         "0"
        ],
        [
         "28",
         "28",
         "2018-04-01 00:28:07",
         "616",
         "7758",
         "12.18",
         "1687",
         "0",
         "0",
         "0"
        ],
        [
         "29",
         "29",
         "2018-04-01 00:28:12",
         "4205",
         "2288",
         "69.66",
         "1692",
         "0",
         "0",
         "0"
        ],
        [
         "30",
         "30",
         "2018-04-01 00:29:05",
         "1106",
         "1317",
         "8.75",
         "1745",
         "0",
         "0",
         "0"
        ],
        [
         "31",
         "31",
         "2018-04-01 00:29:47",
         "2605",
         "6231",
         "38.31",
         "1787",
         "0",
         "0",
         "0"
        ],
        [
         "32",
         "32",
         "2018-04-01 00:30:05",
         "360",
         "1611",
         "92.74",
         "1805",
         "0",
         "0",
         "0"
        ],
        [
         "33",
         "33",
         "2018-04-01 00:30:45",
         "4052",
         "3260",
         "5.69",
         "1845",
         "0",
         "0",
         "0"
        ],
        [
         "34",
         "34",
         "2018-04-01 00:31:27",
         "3944",
         "2696",
         "75.0",
         "1887",
         "0",
         "0",
         "0"
        ],
        [
         "35",
         "35",
         "2018-04-01 00:31:51",
         "1753",
         "8676",
         "115.78",
         "1911",
         "0",
         "0",
         "0"
        ],
        [
         "36",
         "36",
         "2018-04-01 00:32:35",
         "183",
         "4972",
         "39.3",
         "1955",
         "0",
         "0",
         "0"
        ],
        [
         "37",
         "37",
         "2018-04-01 00:32:53",
         "4563",
         "4309",
         "31.18",
         "1973",
         "0",
         "0",
         "0"
        ],
        [
         "38",
         "38",
         "2018-04-01 00:33:22",
         "1546",
         "2897",
         "37.39",
         "2002",
         "0",
         "0",
         "0"
        ],
        [
         "39",
         "39",
         "2018-04-01 00:33:56",
         "4691",
         "3227",
         "44.81",
         "2036",
         "0",
         "0",
         "0"
        ],
        [
         "40",
         "40",
         "2018-04-01 00:33:57",
         "4613",
         "4971",
         "33.95",
         "2037",
         "0",
         "0",
         "0"
        ],
        [
         "41",
         "41",
         "2018-04-01 00:34:14",
         "3445",
         "7820",
         "36.7",
         "2054",
         "0",
         "0",
         "0"
        ],
        [
         "42",
         "42",
         "2018-04-01 00:34:29",
         "731",
         "9969",
         "53.55",
         "2069",
         "0",
         "0",
         "0"
        ],
        [
         "43",
         "43",
         "2018-04-01 00:34:45",
         "3425",
         "2930",
         "119.56",
         "2085",
         "0",
         "0",
         "0"
        ],
        [
         "44",
         "44",
         "2018-04-01 00:36:18",
         "2916",
         "1315",
         "16.48",
         "2178",
         "0",
         "0",
         "0"
        ],
        [
         "45",
         "46",
         "2018-04-01 00:36:39",
         "2033",
         "2061",
         "48.03",
         "2199",
         "0",
         "0",
         "0"
        ],
        [
         "46",
         "45",
         "2018-04-01 00:36:39",
         "855",
         "4297",
         "78.32",
         "2199",
         "0",
         "0",
         "0"
        ],
        [
         "47",
         "47",
         "2018-04-01 00:37:06",
         "4999",
         "3885",
         "38.41",
         "2226",
         "0",
         "0",
         "0"
        ],
        [
         "48",
         "48",
         "2018-04-01 00:37:45",
         "1660",
         "1562",
         "43.52",
         "2265",
         "0",
         "0",
         "0"
        ],
        [
         "49",
         "49",
         "2018-04-01 00:38:22",
         "4853",
         "1417",
         "10.8",
         "2302",
         "0",
         "0",
         "0"
        ]
       ],
       "shape": {
        "columns": 9,
        "rows": 1754155
       }
      },
      "text/html": [
       "<div>\n",
       "<style scoped>\n",
       "    .dataframe tbody tr th:only-of-type {\n",
       "        vertical-align: middle;\n",
       "    }\n",
       "\n",
       "    .dataframe tbody tr th {\n",
       "        vertical-align: top;\n",
       "    }\n",
       "\n",
       "    .dataframe thead th {\n",
       "        text-align: right;\n",
       "    }\n",
       "</style>\n",
       "<table border=\"1\" class=\"dataframe\">\n",
       "  <thead>\n",
       "    <tr style=\"text-align: right;\">\n",
       "      <th></th>\n",
       "      <th>TRANSACTION_ID</th>\n",
       "      <th>TX_DATETIME</th>\n",
       "      <th>CUSTOMER_ID</th>\n",
       "      <th>TERMINAL_ID</th>\n",
       "      <th>TX_AMOUNT</th>\n",
       "      <th>TX_TIME_SECONDS</th>\n",
       "      <th>TX_TIME_DAYS</th>\n",
       "      <th>TX_FRAUD</th>\n",
       "      <th>TX_FRAUD_SCENARIO</th>\n",
       "    </tr>\n",
       "  </thead>\n",
       "  <tbody>\n",
       "    <tr>\n",
       "      <th>0</th>\n",
       "      <td>0</td>\n",
       "      <td>2018-04-01 00:00:31</td>\n",
       "      <td>596</td>\n",
       "      <td>3156</td>\n",
       "      <td>57.16</td>\n",
       "      <td>31</td>\n",
       "      <td>0</td>\n",
       "      <td>0</td>\n",
       "      <td>0</td>\n",
       "    </tr>\n",
       "    <tr>\n",
       "      <th>1</th>\n",
       "      <td>1</td>\n",
       "      <td>2018-04-01 00:02:10</td>\n",
       "      <td>4961</td>\n",
       "      <td>3412</td>\n",
       "      <td>81.51</td>\n",
       "      <td>130</td>\n",
       "      <td>0</td>\n",
       "      <td>0</td>\n",
       "      <td>0</td>\n",
       "    </tr>\n",
       "    <tr>\n",
       "      <th>2</th>\n",
       "      <td>2</td>\n",
       "      <td>2018-04-01 00:07:56</td>\n",
       "      <td>2</td>\n",
       "      <td>1365</td>\n",
       "      <td>146.00</td>\n",
       "      <td>476</td>\n",
       "      <td>0</td>\n",
       "      <td>0</td>\n",
       "      <td>0</td>\n",
       "    </tr>\n",
       "    <tr>\n",
       "      <th>3</th>\n",
       "      <td>3</td>\n",
       "      <td>2018-04-01 00:09:29</td>\n",
       "      <td>4128</td>\n",
       "      <td>8737</td>\n",
       "      <td>64.49</td>\n",
       "      <td>569</td>\n",
       "      <td>0</td>\n",
       "      <td>0</td>\n",
       "      <td>0</td>\n",
       "    </tr>\n",
       "    <tr>\n",
       "      <th>4</th>\n",
       "      <td>4</td>\n",
       "      <td>2018-04-01 00:10:34</td>\n",
       "      <td>927</td>\n",
       "      <td>9906</td>\n",
       "      <td>50.99</td>\n",
       "      <td>634</td>\n",
       "      <td>0</td>\n",
       "      <td>0</td>\n",
       "      <td>0</td>\n",
       "    </tr>\n",
       "    <tr>\n",
       "      <th>...</th>\n",
       "      <td>...</td>\n",
       "      <td>...</td>\n",
       "      <td>...</td>\n",
       "      <td>...</td>\n",
       "      <td>...</td>\n",
       "      <td>...</td>\n",
       "      <td>...</td>\n",
       "      <td>...</td>\n",
       "      <td>...</td>\n",
       "    </tr>\n",
       "    <tr>\n",
       "      <th>1754150</th>\n",
       "      <td>1754150</td>\n",
       "      <td>2018-09-30 23:56:36</td>\n",
       "      <td>161</td>\n",
       "      <td>655</td>\n",
       "      <td>54.24</td>\n",
       "      <td>15810996</td>\n",
       "      <td>182</td>\n",
       "      <td>0</td>\n",
       "      <td>0</td>\n",
       "    </tr>\n",
       "    <tr>\n",
       "      <th>1754151</th>\n",
       "      <td>1754151</td>\n",
       "      <td>2018-09-30 23:57:38</td>\n",
       "      <td>4342</td>\n",
       "      <td>6181</td>\n",
       "      <td>1.23</td>\n",
       "      <td>15811058</td>\n",
       "      <td>182</td>\n",
       "      <td>0</td>\n",
       "      <td>0</td>\n",
       "    </tr>\n",
       "    <tr>\n",
       "      <th>1754152</th>\n",
       "      <td>1754152</td>\n",
       "      <td>2018-09-30 23:58:21</td>\n",
       "      <td>618</td>\n",
       "      <td>1502</td>\n",
       "      <td>6.62</td>\n",
       "      <td>15811101</td>\n",
       "      <td>182</td>\n",
       "      <td>0</td>\n",
       "      <td>0</td>\n",
       "    </tr>\n",
       "    <tr>\n",
       "      <th>1754153</th>\n",
       "      <td>1754153</td>\n",
       "      <td>2018-09-30 23:59:52</td>\n",
       "      <td>4056</td>\n",
       "      <td>3067</td>\n",
       "      <td>55.40</td>\n",
       "      <td>15811192</td>\n",
       "      <td>182</td>\n",
       "      <td>0</td>\n",
       "      <td>0</td>\n",
       "    </tr>\n",
       "    <tr>\n",
       "      <th>1754154</th>\n",
       "      <td>1754154</td>\n",
       "      <td>2018-09-30 23:59:57</td>\n",
       "      <td>3542</td>\n",
       "      <td>9849</td>\n",
       "      <td>23.59</td>\n",
       "      <td>15811197</td>\n",
       "      <td>182</td>\n",
       "      <td>0</td>\n",
       "      <td>0</td>\n",
       "    </tr>\n",
       "  </tbody>\n",
       "</table>\n",
       "<p>1754155 rows × 9 columns</p>\n",
       "</div>"
      ],
      "text/plain": [
       "         TRANSACTION_ID          TX_DATETIME  CUSTOMER_ID  TERMINAL_ID  \\\n",
       "0                     0  2018-04-01 00:00:31          596         3156   \n",
       "1                     1  2018-04-01 00:02:10         4961         3412   \n",
       "2                     2  2018-04-01 00:07:56            2         1365   \n",
       "3                     3  2018-04-01 00:09:29         4128         8737   \n",
       "4                     4  2018-04-01 00:10:34          927         9906   \n",
       "...                 ...                  ...          ...          ...   \n",
       "1754150         1754150  2018-09-30 23:56:36          161          655   \n",
       "1754151         1754151  2018-09-30 23:57:38         4342         6181   \n",
       "1754152         1754152  2018-09-30 23:58:21          618         1502   \n",
       "1754153         1754153  2018-09-30 23:59:52         4056         3067   \n",
       "1754154         1754154  2018-09-30 23:59:57         3542         9849   \n",
       "\n",
       "         TX_AMOUNT  TX_TIME_SECONDS  TX_TIME_DAYS  TX_FRAUD  TX_FRAUD_SCENARIO  \n",
       "0            57.16               31             0         0                  0  \n",
       "1            81.51              130             0         0                  0  \n",
       "2           146.00              476             0         0                  0  \n",
       "3            64.49              569             0         0                  0  \n",
       "4            50.99              634             0         0                  0  \n",
       "...            ...              ...           ...       ...                ...  \n",
       "1754150      54.24         15810996           182         0                  0  \n",
       "1754151       1.23         15811058           182         0                  0  \n",
       "1754152       6.62         15811101           182         0                  0  \n",
       "1754153      55.40         15811192           182         0                  0  \n",
       "1754154      23.59         15811197           182         0                  0  \n",
       "\n",
       "[1754155 rows x 9 columns]"
      ]
     },
     "execution_count": 51,
     "metadata": {},
     "output_type": "execute_result"
    }
   ],
   "source": [
    "df"
   ]
  },
  {
   "cell_type": "markdown",
   "metadata": {},
   "source": [
    "# Introduction"
   ]
  },
  {
   "cell_type": "markdown",
   "metadata": {},
   "source": [
    "In 2024 alone, 134 million Americans have been victims of credit card fraud, with unauthorized purchases accounting for 6.2 billion dollars annually. This trend of fraud is on the rise in financial and business challenges. (Reference 1).  While consumers are generally protected from fraudulent transactions, the impact is beyond the negative experience; financial institutions and businesses bear the cost.\n",
    "\n",
    "To reduce these risks, financial institutions leverage Machine Learning (ML) and other statistical models to detect and prevent transactions from occurring. Creating effective fraud detection models has challenges, including correctly classifying fraudulent transactions, minimizing customer impact with false positives, and dealing with multiple fraud vectors.\n",
    "\n",
    "In this project, we will explore the process of creating a fraud detection model, the data set we used, feature engineering, model evaluation metrics, and the challenges of imbalanced data sets. Since fraudulent activity is rare, accuracy metrics are not applicable when determining model evaluation as they mainly give a score on how well it detects *non-fraud*. In this project we will be using precision, recall, F1 score and the Precision-Recall Curve (PR - AUC) to provide an accurate representation of the model given the challenges in the data set."
   ]
  },
  {
   "cell_type": "markdown",
   "metadata": {},
   "source": [
    "## The Dataset"
   ]
  },
  {
   "cell_type": "markdown",
   "metadata": {},
   "source": [
    "Due to the nature of the information for credit card purchases, we used a synthetic data set (References 2 & 3), which allows us to explore fraud detection techniques while also maintaining privacy and security concerns. Below is a list of the features.\n",
    "\n",
    "\\begin{table}[h]\n",
    "    \\centering\n",
    "    \\begin{tabular}{| l | p{10cm} |}\n",
    "        \\hline\n",
    "        \\textbf{Feature} & \\textbf{Description} \\\\\n",
    "        \\hline\n",
    "        TRANSACTION\\_ID & A unique identifier for the transaction \\\\\n",
    "        \\hline\n",
    "        TX\\_DATETIME & Date and time at which the transaction occurs \\\\\n",
    "        \\hline\n",
    "        CUSTOMER\\_ID & The identifier for the customer. Each customer has a unique identifier \\\\\n",
    "        \\hline\n",
    "        TERMINAL\\_ID & The identifier for the merchant (or, more precisely, the terminal). Each terminal has a unique identifier \\\\\n",
    "        \\hline\n",
    "        TX\\_AMOUNT & The amount of the transaction \\\\\n",
    "        \\hline\n",
    "        TX\\_FRAUD & A binary variable with the value for a legitimate transaction or the value for a fraudulent transaction \\\\\n",
    "        \\hline\n",
    "        TX\\_TIME\\_SECONDS & Timestamp of transaction in seconds \\\\\n",
    "        \\hline\n",
    "        TX\\_TIME\\_DAYS & Timestamp of transaction in days \\\\\n",
    "        \\hline\n",
    "        TX\\_FRAUD\\_SCENARIO & Numerical indicator of the type of fraud scenario \\\\\n",
    "        \\hline\n",
    "    \\end{tabular}\n",
    "    \\caption{Transaction Features and Their Descriptions}\n",
    "    \\label{tab:transaction_features}\n",
    "\\end{table}"
   ]
  },
  {
   "cell_type": "markdown",
   "metadata": {},
   "source": [
    "This synthetic data can help us in research and model experimentation. It introduces limitations: the data may not reflect real world approaches that fraudsters use, customer transactions may lack variability, and `TX_FRAUD_SCENARIO` can create potential data leakage.\n",
    "With those limitations in mind, we want to be able to focus on building feature engineering and methods that can generalize well to actual scenarios. We must first explore the data cleaning and processing steps taken to prepare the data set for modeling."
   ]
  },
  {
   "cell_type": "markdown",
   "metadata": {},
   "source": [
    "# Data Cleaning and Preprocessing"
   ]
  },
  {
   "cell_type": "markdown",
   "metadata": {},
   "source": [
    "Before conducting exploratory data analysis and model development, we had to clean data and process the data.\n",
    "\n",
    "Since this data was synthetically generated, no missing (NaN) values were present. In the data, the `TX_FRAUD_SCENARIO` column was dropped to prevent data leakage as it contained information directly to the fraud classification. `TX_DATETIME` was transformed into multiple features--`TX_HOUR` (hour of the transaction) and `TX_DAYOFWEEK` (day of the transaction week)--to capture temporal patterns. Once that transformation was completed, `TX_DATETIME` was dropped due to redundant data.\n",
    "\n",
    "Completing these preprocessing steps ensure that the dataset was structured for feature extraction while also minimizing data leakage. Transforming `TX_DATETIME` allowed us to capture temporal fraud patterns. With these preprocessing steps done, the data set is now ready for exploratory data analysis (EDA), where we will be determining patterns in fraudulent and non-fraudulent transactions, key trends and assess potential predictive features."
   ]
  },
  {
   "cell_type": "code",
   "execution_count": 52,
   "metadata": {
    "tags": [
     "remove_cell"
    ]
   },
   "outputs": [],
   "source": [
    "# Load and Preprocess Data\n",
    "\n",
    "df.columns = df.columns.str.strip().str.upper()\n",
    "\n",
    "# Drop unnecessary column\n",
    "df.drop(columns=['TX_FRAUD_SCENARIO'], inplace=True)\n",
    "\n",
    "# Convert TX_DATETIME and extract key time features\n",
    "df['TX_DATETIME'] = pd.to_datetime(df['TX_DATETIME'])\n",
    "df['TX_HOUR'] = df['TX_DATETIME'].dt.hour\n",
    "df['TX_DAYOFWEEK'] = df['TX_DATETIME'].dt.dayofweek\n",
    "df.drop(columns=['TX_DATETIME'], inplace=True)\n",
    "\n",
    "\n",
    "# Time-Based Split\n",
    "split_point = df['TX_TIME_DAYS'].quantile(0.8)\n",
    "train_df = df[df['TX_TIME_DAYS'] < split_point].copy()\n",
    "test_df = df[df['TX_TIME_DAYS'] >= split_point].copy()"
   ]
  },
  {
   "cell_type": "markdown",
   "metadata": {},
   "source": [
    "# Exploratory Data Analysis"
   ]
  },
  {
   "cell_type": "markdown",
   "metadata": {},
   "source": [
    "Initially we performed basic data exploration to learn more about our data set. One of the first things in our exploration analysis that was noticeable was that the data set was highly imbalanced, with only fraudulent activity making up a small proportion of the total (which was a given considering we're working with fraud). Being aware of class balance is important as it affects model performance and evaluation metrics. Additionally, we analyzed the average transaction that customers typically make with their cards. With this information we wanted to determine if going above or below the average transaction was more likely fraudulent. Since this was a significant factor in fraud detection, we further explored whether a customer’s personal average carried more of a determining factor than global average (See Figure 1)."
   ]
  },
  {
   "cell_type": "code",
   "execution_count": 53,
   "metadata": {
    "tags": [
     "remove_input"
    ]
   },
   "outputs": [
    {
     "name": "stdout",
     "output_type": "stream",
     "text": [
      "                             Metric  Count Percentage\n",
      "0      Fraud Above Personal Average   2169      0.62%\n",
      "1  Fraud Not Above Personal Average   1303      0.38%\n"
     ]
    }
   ],
   "source": [
    "# Calculate the average non-fraud transaction amount for each customer\n",
    "customer_avg_amount = df.groupby(['CUSTOMER_ID'])['TX_AMOUNT'].mean().reset_index()\n",
    "\n",
    "# Calculate the average fraud transaction amount for each customer\n",
    "customer_avg_fraud_amount = df[df['TX_FRAUD'] == 1].groupby(['CUSTOMER_ID'])['TX_AMOUNT'].mean().reset_index()\n",
    "\n",
    "customer_avg_merged = pd.merge(customer_avg_amount, customer_avg_fraud_amount, how='inner', suffixes=('_nonfraud', '_fraud'), on='CUSTOMER_ID').fillna(0)\n",
    "\n",
    "customer_avg_merged[\"ABOVE_AVG\"] = customer_avg_merged[\"TX_AMOUNT_fraud\"] > customer_avg_merged[\"TX_AMOUNT_nonfraud\"]\n",
    "customer_avg_merged[\"BELOW_AVG\"] = ~customer_avg_merged[\"ABOVE_AVG\"]\n",
    "\n",
    "count_above = len(customer_avg_merged[customer_avg_merged[\"ABOVE_AVG\"]])\n",
    "count_below = len(customer_avg_merged[customer_avg_merged[\"BELOW_AVG\"]])\n",
    "percentage_above = len(customer_avg_merged[customer_avg_merged[\"ABOVE_AVG\"]]) / len(customer_avg_merged)\n",
    "percentage_below = len(customer_avg_merged[customer_avg_merged[\"BELOW_AVG\"]]) / len(customer_avg_merged)\n",
    "\n",
    "summary_table = pd.DataFrame({\n",
    "    'Metric': ['Fraud Above Personal Average', 'Fraud Not Above Personal Average'],\n",
    "    'Count': [count_above, count_below],\n",
    "    'Percentage': [f\"{percentage_above:.2f}%\", f\"{percentage_below:.2f}%\"]\n",
    "})\n",
    "\n",
    "print(summary_table)"
   ]
  },
  {
   "cell_type": "markdown",
   "metadata": {},
   "source": [
    "Our findings showed that incorporating a customer’s historical spending behavior improved the chance of finding fraudulent activity, which could show that people who commit fraud are trying to stay within the expected spending patterns of the individual."
   ]
  },
  {
   "cell_type": "markdown",
   "metadata": {},
   "source": [
    "We also investigated whether certain terminals were consistent with fraudulent activity (See Figure 2)."
   ]
  },
  {
   "cell_type": "code",
   "execution_count": 54,
   "metadata": {
    "tags": [
     "remove_input"
    ]
   },
   "outputs": [
    {
     "name": "stdout",
     "output_type": "stream",
     "text": [
      "fraud_pattern        Consecutive  Non-Consecutive\n",
      "Terminal_Count            323.00          1139.00\n",
      "Fraud_Count              7831.00          4030.00\n",
      "Terminal_Percentage        22.09            77.91\n",
      "Fraud_Percentage           66.02            33.98\n"
     ]
    }
   ],
   "source": [
    "fraud_df = df[df['TX_FRAUD'] == 1]\n",
    "\n",
    "# Extract unique fraud in the data\n",
    "fraud_dates_sorted = fraud_df[[\"TERMINAL_ID\", \"TX_TIME_DAYS\"]].drop_duplicates().sort_values([\"TERMINAL_ID\", \"TX_TIME_DAYS\"])\n",
    "\n",
    "# Calculate day differences between consecutive fraud events per terminal\n",
    "fraud_dates_sorted[\"PREV_DAY\"] = fraud_dates_sorted.groupby(\"TERMINAL_ID\")[\"TX_TIME_DAYS\"].shift(1)\n",
    "fraud_dates_sorted[\"DAY_DIFF\"] = fraud_dates_sorted[\"TX_TIME_DAYS\"] - fraud_dates_sorted[\"PREV_DAY\"]\n",
    "\n",
    "diffs = fraud_dates_sorted.dropna(subset=[\"DAY_DIFF\"])\n",
    "\n",
    "# Create a table to display the information\n",
    "terminal_gap_summary = diffs.groupby(\"TERMINAL_ID\").agg(\n",
    "    total_gaps=(\"DAY_DIFF\", \"count\"),\n",
    "    consecutive_gaps=(\"DAY_DIFF\", lambda x: (x == 1).sum())\n",
    ").reset_index()\n",
    "\n",
    "# Compute additional statistics\n",
    "terminal_gap_summary[\"gap_ratio\"] = terminal_gap_summary[\"consecutive_gaps\"] / terminal_gap_summary[\"total_gaps\"]\n",
    "terminal_gap_summary[\"non_consecutive_gaps\"] = terminal_gap_summary[\"total_gaps\"] - terminal_gap_summary[\"consecutive_gaps\"]\n",
    "\n",
    "# Classify fraud patterns\n",
    "terminal_gap_summary[\"fraud_pattern\"] = terminal_gap_summary[\"gap_ratio\"].apply(\n",
    "    lambda r: \"Consecutive\" if r >= 0.5 else \"Non-Consecutive\"\n",
    ")\n",
    "\n",
    "# Count fraud\n",
    "fraud_counts = fraud_df.groupby(\"TERMINAL_ID\").size().reset_index(name=\"fraud_count\")\n",
    "\n",
    "# Merge tables\n",
    "merged_summary = pd.merge(terminal_gap_summary, fraud_counts, on=\"TERMINAL_ID\", how=\"left\")\n",
    "\n",
    "# Compute summary statistics by fraud pattern\n",
    "pattern_summary = merged_summary.groupby(\"fraud_pattern\").agg(\n",
    "    Terminal_Count=(\"TERMINAL_ID\", \"count\"),\n",
    "    Fraud_Count=(\"fraud_count\", \"sum\"),\n",
    ").reset_index()\n",
    "\n",
    "# Compute additional statistics\n",
    "pattern_summary[\"Terminal_Percentage\"] = pattern_summary[\"Terminal_Count\"] / pattern_summary[\"Terminal_Count\"].sum() * 100\n",
    "pattern_summary[\"Fraud_Percentage\"] = pattern_summary[\"Fraud_Count\"] / pattern_summary[\"Fraud_Count\"].sum() * 100\n",
    "\n",
    "pattern_summary = pattern_summary.round(2)\n",
    "\n",
    "print(pattern_summary.set_index(\"fraud_pattern\").transpose())"
   ]
  },
  {
   "cell_type": "markdown",
   "metadata": {},
   "source": [
    "This revealed that a small number of terminals were responsible for a large portion of fraud, often occurring over consecutive days. However, there was no fixed pattern in the number of days fraud occurred and no clear distinction between whether a certain day should be a concern (See Figure 3)."
   ]
  },
  {
   "cell_type": "code",
   "execution_count": 55,
   "metadata": {
    "tags": [
     "remove_input"
    ]
   },
   "outputs": [
    {
     "data": {
      "image/png": "[encoded data removed]",
      "text/plain": [
       "<Figure size 800x400 with 1 Axes>"
      ]
     },
     "metadata": {},
     "output_type": "display_data"
    }
   ],
   "source": [
    "_, ax = plt.subplots(1, 1, figsize=(8,4))\n",
    "\n",
    "consecutive_counts = diffs[diffs[\"DAY_DIFF\"] == 1][\"TERMINAL_ID\"].value_counts()\n",
    "non_consecutive_counts = diffs[diffs[\"DAY_DIFF\"] > 1][\"TERMINAL_ID\"].value_counts()\n",
    "\n",
    "sns.set_theme(style=\"darkgrid\")\n",
    "sns.histplot(x=consecutive_counts, bins=30, kde=False, ax=ax, color=\"brown\")\n",
    "sns.histplot(x=non_consecutive_counts, bins=20, kde=False, ax=ax, color='skyblue')\n",
    "ax.set_xlim([0, max(consecutive_counts.max(), non_consecutive_counts.max())])\n",
    "ax.set(xlabel = \"Number of fraudulent transactions\", ylabel=\"Frequency\",\n",
    "       title=\"Distribution of Consecutive and Non-Consecutive Days Per Terminal\")\n",
    "ax.legend([\"Consecutive Days\", \"Non-Consecutive Days\"]);"
   ]
  },
  {
   "cell_type": "markdown",
   "metadata": {},
   "source": [
    "To address this, we had to implement a way in our classification approach that acknowledges that past fraudulent activity at a terminal is a strong factor, but not all future transactions at that terminal should be flagged as fraud.\n",
    "\n",
    "Our exploration analysis showed many key significant insights into fraud detection, which include class imbalance, transaction amount and terminal level indicators. Those findings gave us information that was necessary to implement our feature engineering and modeling approach to account for the customer and terminal behavior patterns and minimize our bias in our model."
   ]
  },
  {
   "cell_type": "markdown",
   "metadata": {},
   "source": [
    "# Feature Engineering"
   ]
  },
  {
   "cell_type": "markdown",
   "metadata": {},
   "source": [
    "To create a robust fraud detection, we engineered features that capture both population fraud trends and individual customer-based spending behaviors. This creates a model that can detect a wide range of fraud tactics while also identifying personalized anomalies that could indicate fraudulent activity at a customer level.\n",
    "\n",
    "Transaction amount serves as a critical indication in fraudulent activity, so we'd want to try and capture this. We applied a Z-score normalization to standardize transactions relative to the dataset mean, which ensures that large transaction values were flagged as unusual. However, some of the fraudulent activities attempted to fall within the customer expected ranges but still would appear abnormal compared to overall transaction patterns. Since specific terminals were exploited, we implemented rolling seven-and twenty-eight day rolling fraud rates. Acknowledging that a terminal who has had fraudulent activity doesn’t mean they will always be fraudulent we implemented an exponential decay factor to ensure old occurrences of fraud had a diminishing influence in our model and attempting to prevent model but still capturing consistent fraud risk. To further improve our population fraud trend, we implemented a Local Outlier Factor (LOF), which is an unsupervised anomaly detection method that assigned a likelihood of fraud score based on its behavior. This method creates context-based detecting and maintains to not solely rely on extreme transaction values. During the feature engineering process we considered using an Isolation Forest for our unsupervised choice, but the anomaly score made our model rely on the Isolation Forest prediction, which reduced its ability to learn other fraudulent trends.\n",
    "\n",
    "Listed below shows all population-based features that were created."
   ]
  },
  {
   "cell_type": "markdown",
   "metadata": {},
   "source": [
    "\\begin{table}[h]\n",
    "    \\centering\n",
    "    \\begin{tabular}{| l | p{10cm} |}\n",
    "        \\hline\n",
    "        \\textbf{Feature} & \\textbf{Purpose} \\\\\n",
    "        \\hline\n",
    "        TX\\_AMOUNT\\_Z\\_Score & Check for extreme transaction amounts compared to data set's mean \\\\\n",
    "        \\hline\n",
    "        TX\\_AMOUNT\\_Percentile & Check transaction amounts relative to all others \\\\\n",
    "        \\hline\n",
    "        TERMINAL\\_FRAUD\\_RATIO & Terminal-level fraud check that decays over time \\\\\n",
    "        \\hline\n",
    "        ANOMALY\\_SCORE (LOF) & Unsupervised learning to apply a score beyond deviation of previous features \\\\\n",
    "        \\hline\n",
    "    \\end{tabular}\n",
    "    \\caption{Feature Description and Purpose}\n",
    "    \\label{tab:feature_purpose}\n",
    "\\end{table}"
   ]
  },
  {
   "cell_type": "markdown",
   "metadata": {},
   "source": [
    "The population-based trend provides a big picture view of our sample, but fraudulent transactions often are different from customer to customer rather than the population itself. To recognize this, we engineered features that will adapt to each customer's unique spending habits instead of over relying on dataset wide fraud indicators. The key feature of detecting fraud at a customer level is track spending behavior over time. We computed a 14-day rolling window that tracks whether a customer suddenly makes a significant change in their spending habits. This can help with identifying fraud scenarios where fraudsters make large transactions over a short period, deviation from previous spending habits. We normalized the transaction amount based on each customer's historical data instead of the entire data set. This implementation prevents the model from flagging frequently high spending larger transactions, while still detecting unexpected large purchases from lower spending customers.\n",
    "\n",
    "The table below shows all customer-based features that were created.\n",
    "\n",
    "\\begin{table}[h]\n",
    "    \\centering\n",
    "    \\begin{tabular}{| l | p{10cm} |}\n",
    "        \\hline\n",
    "        \\textbf{Customer-Based Features} & \\textbf{Purpose} \\\\\n",
    "        \\hline\n",
    "        SPENDING\\_RATIO\\_CHANGE & Checks for sudden shifts in customer spending behavior \\\\\n",
    "        \\hline\n",
    "        SPENDING\\_Z\\_SCORE\\_28D & Identifies how unusual a transaction is for a specific customer based on their historical spending patterns \\\\\n",
    "        \\hline\n",
    "    \\end{tabular}\n",
    "    \\caption{Customer-Based Features and Their Purpose}\n",
    "    \\label{tab:customer_features}\n",
    "\\end{table}"
   ]
  },
  {
   "cell_type": "markdown",
   "metadata": {},
   "source": [
    "By looking at both the population and customer-based fraud detection the purpose is to create a model that can identify fraud trends that are occurring at large scale, but also adapting to customer-level behavior. This combination with dynamic adjusting and personalized profiles attempts to create a fraud detection model that is both effective and adaptable at identifying ever changing fraud tactics.\n",
    "With the creation of these engineered features, we now will focus on model selection and evaluating different approaches at models to classify fraudulent activity effectively"
   ]
  },
  {
   "cell_type": "code",
   "execution_count": 56,
   "metadata": {
    "tags": [
     "remove_cell"
    ]
   },
   "outputs": [],
   "source": [
    "# Feature Engineering Rolling Windows with decay\n",
    "scaler = StandardScaler()\n",
    "train_df['TX_AMOUNT_Z_SCORE'] = scaler.fit_transform(train_df[['TX_AMOUNT']])\n",
    "test_df['TX_AMOUNT_Z_SCORE'] = scaler.transform(test_df[['TX_AMOUNT']])\n",
    "\n",
    "train_df['TX_AMOUNT_PERCENTILE'] = train_df['TX_AMOUNT'].rank(pct=True)\n",
    "test_df['TX_AMOUNT_PERCENTILE'] = test_df['TX_AMOUNT'].rank(pct=True)\n",
    "\n",
    "# Optimize Decay Factor \n",
    "decay_values = np.linspace(0.8, 0.99, 20)  \n",
    "best_decay, best_corr = 0.95, float('-inf')  \n",
    "\n",
    "for decay in decay_values:\n",
    "    temp_df = train_df.copy()\n",
    "    temp_df['TERMINAL_FRAUD_RATIO_28D'] = (\n",
    "        temp_df.groupby('TERMINAL_ID')['TX_FRAUD']\n",
    "        .shift(1)\n",
    "        .ewm(alpha=1-decay)\n",
    "        .mean()\n",
    "    )\n",
    "    correlation = temp_df['TERMINAL_FRAUD_RATIO_28D'].corr(temp_df['TX_FRAUD'])\n",
    "    \n",
    "    if correlation > best_corr:\n",
    "        best_corr = correlation\n",
    "        best_decay = decay\n",
    "\n",
    "optimal_decay = best_decay  # Best decay factor based on correlation\n",
    "\n",
    "# Apply the optimized decay factor\n",
    "train_df['TERMINAL_FRAUD_RATIO_28D'] = (\n",
    "    train_df.groupby('TERMINAL_ID')['TX_FRAUD']\n",
    "    .shift(1)\n",
    "    .ewm(alpha=1-optimal_decay)\n",
    "    .mean()\n",
    ")\n",
    "test_df['TERMINAL_FRAUD_RATIO_28D'] = (\n",
    "    test_df.groupby('TERMINAL_ID')['TX_FRAUD']\n",
    "    .shift(1)\n",
    "    .ewm(alpha=1-optimal_decay)\n",
    "    .mean()\n",
    ")\n",
    "\n",
    "# Terminal Fraud Ratios\n",
    "train_df['TERMINAL_FRAUD_RATIO_7D'] = (\n",
    "    train_df.groupby('TERMINAL_ID')['TX_FRAUD']\n",
    "    .shift(1)\n",
    "    .rolling(7, min_periods=1)\n",
    "    .mean()\n",
    ")\n",
    "test_df['TERMINAL_FRAUD_RATIO_7D'] = (\n",
    "    test_df.groupby('TERMINAL_ID')['TX_FRAUD']\n",
    "    .shift(1)\n",
    "    .rolling(7, min_periods=1)\n",
    "    .mean()\n",
    ")\n",
    "\n",
    "# Customer Spending Trends\n",
    "train_df['SPENDING_RATIO_CHANGE'] = (\n",
    "    train_df.groupby('CUSTOMER_ID')['TX_AMOUNT']\n",
    "    .transform(lambda x: x.pct_change().rolling(14, min_periods=1).mean())\n",
    ")\n",
    "test_df['SPENDING_RATIO_CHANGE'] = (\n",
    "    test_df.groupby('CUSTOMER_ID')['TX_AMOUNT']\n",
    "    .transform(lambda x: x.pct_change().rolling(14, min_periods=1).mean())\n",
    ")\n",
    "\n",
    "train_df['SPENDING_Z_SCORE_28D'] = (\n",
    "    train_df.groupby('CUSTOMER_ID')['TX_AMOUNT']\n",
    "    .transform(lambda x: (x - x.mean()) / (x.std() + 1))\n",
    ")\n",
    "test_df['SPENDING_Z_SCORE_28D'] = (\n",
    "    test_df.groupby('CUSTOMER_ID')['TX_AMOUNT']\n",
    "    .transform(lambda x: (x - x.mean()) / (x.std() + 1))\n",
    ")\n",
    "\n",
    "\n",
    "# Anomaly Detection (Local Outlier Factor)\n",
    "features_for_lof = ['TX_AMOUNT_Z_SCORE', 'SPENDING_RATIO_CHANGE', 'TERMINAL_FRAUD_RATIO_28D']\n",
    "train_df[features_for_lof] = train_df[features_for_lof].fillna(train_df[features_for_lof].median())\n",
    "test_df[features_for_lof] = test_df[features_for_lof].fillna(test_df[features_for_lof].median())\n",
    "\n",
    "lof = LocalOutlierFactor(n_neighbors=20, contamination=0.005, novelty=True)\n",
    "lof.fit(train_df[features_for_lof].values)\n",
    "\n",
    "train_df['ANOMALY_SCORE'] = lof.decision_function(train_df[features_for_lof].values)\n",
    "test_df['ANOMALY_SCORE'] = lof.decision_function(test_df[features_for_lof].values)\n",
    "\n",
    "# Normalize Anomaly Scores\n",
    "scaler = MinMaxScaler()\n",
    "train_df['ANOMALY_SCORE'] = scaler.fit_transform(train_df[['ANOMALY_SCORE']])\n",
    "test_df['ANOMALY_SCORE'] = scaler.transform(test_df[['ANOMALY_SCORE']])"
   ]
  },
  {
   "cell_type": "code",
   "execution_count": 57,
   "metadata": {
    "tags": [
     "remove_cell"
    ]
   },
   "outputs": [],
   "source": [
    "engineered_features = ['TX_AMOUNT_Z_SCORE',\n",
    "                       'TX_AMOUNT_PERCENTILE',\n",
    "                       'TERMINAL_FRAUD_RATIO_7D',\n",
    "                       'TERMINAL_FRAUD_RATIO_28D',\n",
    "                       'SPENDING_RATIO_CHANGE',\n",
    "                       'SPENDING_Z_SCORE_28D',\n",
    "                       'ANOMALY_SCORE']\n",
    "\n",
    "for feature in engineered_features:\n",
    "    median_value = train_df[feature].median()\n",
    "    train_df[feature] = train_df[feature].fillna(median_value)\n",
    "    test_df[feature] = test_df[feature].fillna(median_value)"
   ]
  },
  {
   "cell_type": "markdown",
   "metadata": {},
   "source": [
    "# Model Selection"
   ]
  },
  {
   "cell_type": "markdown",
   "metadata": {},
   "source": [
    "Dealing with the data imbalance is a fundamental challenge in the data set; classifiers would predict the majority class, which is not the main factor that we are trying to classify. To address this, we selected a combination of models that will vary based on interpretability and accuracy: **Balanced Random Forest (BRF)**, **XGBoost**, and a **stacked model**. We also selected a **Logistic Regression** model to see how a simple model would perform too.\n",
    "\n",
    "With each of these models, we used a Local Outlier Factor (LOF), which is an unsupervised anomaly detection model that was implemented in our feature engineering. LOFs generate an anomaly score based on its nearest neighbors in terms of the objective, and give a score based on how significantly different the transactions were compared to the others which assisted the models in classifying fraud.\n",
    "\n",
    "We chose to use BRFs because it would be the most interpretable model to understand how the fraud is detected. It handles imbalanced data well due to the undersampling of the majority class at each tree, but can miss complex fraud patterns with non-linear relationships.\n",
    "XGBoost was chosen because it can handle complex non linear relationships and with scale_pos_weight it can handle imbalances through class weighting, but it relies on gradient boosting which makes individual decisions less clear compared to BRF (Reference 4).\n",
    "Our last model was stacking, which combines both previous models together; It combines the strength and weakness of both models together into a meta-model to combine both of those previous inputs together. Due to the meta-model, the final decisions are not directly interpretable (Reference 5).\n",
    "\n",
    "With the choice of our model made, designed to handle the class imbalance, we need to run each model and evaluate each to choose which model would be best for our objective. "
   ]
  },
  {
   "cell_type": "markdown",
   "metadata": {},
   "source": [
    "# Model Training and Evaluation"
   ]
  },
  {
   "cell_type": "markdown",
   "metadata": {},
   "source": [
    "We will be using 4 scores to determine how well our models perform: Precision, Recall, F1, and a PR-AUC score.\n",
    "\n",
    "- Precision (PPV): Correctly identified fraudulent cases across all *classified* fraudulent cases\n",
    "    - Also called the \"positive predictive value\"\n",
    "- Recall (TPR): Correctly identified fraudulent cases across all *truly* fraudulent cases\n",
    "    - Also called the \"true positive rate\", power, or sensitivity\n",
    "- F1: A metric providing a balanced measure of the harmonic mean of precision and recall\n",
    "- PR-AUC: The model's ability to distinguish between classes (Reference 6)\n",
    "\n",
    "F1 Score will be the main determining factor, to determine how well our models perform, because it considers both *predicting* and *detecting* a fraudulent case. Both cases can be costly and give us a better real-world measure of fraud detection. A higher F1-Score means the model is better at balancing precision and recall, which is critical to fraud detection and other imbalanced classification problems\n",
    "We have omitted accuracy from consideration because it is misleading with extreme class imbalances, in our data set only 0.84% of all transaction were fraudulent. Since it makes such a small percentage of all transaction, and predicts the *majority* class (legitimate transactions), which is not the objective of our models.\n"
   ]
  },
  {
   "cell_type": "code",
   "execution_count": 58,
   "metadata": {
    "tags": [
     "remove_cell"
    ]
   },
   "outputs": [],
   "source": [
    "def model_run(model: BalancedRandomForestClassifier | XGBClassifier | StackingClassifier,\n",
    "              features = engineered_features, train_df = train_df, test_df = test_df) -> dict[str, float]:\n",
    "    # Train the model\n",
    "    model.fit(train_df[features], train_df['TX_FRAUD'])\n",
    "    \n",
    "    # Predictions\n",
    "    y_pred = model.predict(test_df[features])\n",
    "    y_scores = model.predict_proba(test_df[features])[:,1]\n",
    "\n",
    "    precision = precision_score(test_df['TX_FRAUD'], y_pred)\n",
    "    recall = recall_score(test_df['TX_FRAUD'], y_pred)\n",
    "    f1 = f1_score(test_df['TX_FRAUD'], y_pred)\n",
    "    pr_auc = average_precision_score(test_df['TX_FRAUD'], y_scores)\n",
    "    \n",
    "    tn, fp, fn, tp = confusion_matrix(test_df['TX_FRAUD'], y_pred).ravel()\n",
    "    fpr = fp / (fp + tn) if (fp + tn) > 0 else 0\n",
    "\n",
    "    return {\n",
    "        'Precision': precision,\n",
    "        'Recall': recall,\n",
    "        'F1': f1,\n",
    "        'PR-AUC': pr_auc,\n",
    "        'FPR': fpr\n",
    "    }"
   ]
  },
  {
   "cell_type": "code",
   "execution_count": 59,
   "metadata": {
    "tags": [
     "remove_cell"
    ]
   },
   "outputs": [],
   "source": [
    "logreg_model = LogisticRegression()\n",
    "\n",
    "logreg_results = model_run(logreg_model)"
   ]
  },
  {
   "cell_type": "code",
   "execution_count": 60,
   "metadata": {
    "tags": [
     "remove_cell"
    ]
   },
   "outputs": [],
   "source": [
    "brf_model = BalancedRandomForestClassifier(n_estimators=500, max_depth=15, random_state=42, class_weight='balanced_subsample')\n",
    "\n",
    "brf_results = model_run(brf_model)"
   ]
  },
  {
   "cell_type": "code",
   "execution_count": 61,
   "metadata": {
    "tags": [
     "remove_cell"
    ]
   },
   "outputs": [],
   "source": [
    "# Make weights\n",
    "neg_count = train_df['TX_FRAUD'].value_counts()[0]\n",
    "pos_count = train_df['TX_FRAUD'].value_counts()[1]\n",
    "scale_pos_weight = neg_count / pos_count\n",
    "\n",
    "# Run XGBoost\n",
    "xgb_model: XGBClassifier = XGBClassifier()\n",
    "xgb_model.objective = 'binary:logistic'\n",
    "xgb_model.scale_pos_weight = scale_pos_weight\n",
    "\n",
    "xgb_results = model_run(xgb_model)"
   ]
  },
  {
   "cell_type": "code",
   "execution_count": 62,
   "metadata": {
    "tags": [
     "remove_cell"
    ]
   },
   "outputs": [],
   "source": [
    "meta_model = LogisticRegression()\n",
    "\n",
    "stacking_model = StackingClassifier(\n",
    "    estimators=[\n",
    "        ('brf', brf_model),\n",
    "        ('xgb', xgb_model)\n",
    "    ],\n",
    "    final_estimator=meta_model,\n",
    "    passthrough=True\n",
    ")\n",
    "\n",
    "stacking_results = model_run(stacking_model)"
   ]
  },
  {
   "cell_type": "code",
   "execution_count": 63,
   "metadata": {
    "tags": [
     "remove_input"
    ]
   },
   "outputs": [
    {
     "name": "stdout",
     "output_type": "stream",
     "text": [
      "                    Model  Precision    Recall        F1    PR-AUC\n",
      "0     Logistic Regression   0.640849  0.351590  0.454065  0.569117\n",
      "1  Balanced Random Forest   0.307768  0.890463  0.457434  0.685667\n",
      "2                 XGBoost   0.355417  0.861190  0.503172  0.586850\n",
      "3                Stacking   0.656351  0.700976  0.677930  0.652004\n"
     ]
    },
    {
     "data": {
      "image/png": "[encoded data removed]",
      "text/plain": [
       "<Figure size 800x800 with 1 Axes>"
      ]
     },
     "metadata": {},
     "output_type": "display_data"
    }
   ],
   "source": [
    "# Merge all model results into one dataframe\n",
    "results_df = pd.DataFrame({\n",
    "    'Model': ['Logistic Regression', 'Balanced Random Forest', 'XGBoost', 'Stacking'],\n",
    "    'Precision': [logreg_results['Precision'], brf_results['Precision'], xgb_results['Precision'], stacking_results['Precision']],\n",
    "    'Recall': [logreg_results['Recall'], brf_results['Recall'], xgb_results['Recall'], stacking_results['Recall']],\n",
    "    'F1': [logreg_results['F1'], brf_results['F1'], xgb_results['F1'], stacking_results['F1']],\n",
    "    'PR-AUC': [logreg_results['PR-AUC'], brf_results['PR-AUC'], xgb_results['PR-AUC'], stacking_results['PR-AUC']],\n",
    "})\n",
    "\n",
    "print(results_df)\n",
    "\n",
    "results_df_melt = pd.melt(results_df, id_vars=['Model'], value_vars=['Precision', 'Recall', 'F1', 'PR-AUC'], var_name='Metric', value_name='Score')\n",
    "\n",
    "_, ax = plt.subplots(figsize=(8, 8))\n",
    "sns.set_theme(style=\"darkgrid\")\n",
    "\n",
    "sns.barplot(y=\"Metric\", x=\"Score\", hue=\"Model\", ax=ax, data=results_df_melt)\n",
    "ax.set(ylabel = \"Model\", xlabel=\"Score\",\n",
    "       title=\"Model Performance Metrics\");"
   ]
  },
  {
   "cell_type": "markdown",
   "metadata": {},
   "source": [
    "Each of these models have their own unique strengths and weaknesses, and the “best” choice is dependent on real-world scenarios.\n",
    "- If minimizing false positives are critical, avoiding legitimate transactions being blocked and creating a negative customer experience, and precision model is preferred\n",
    "- If prioritizing capturing as many fraudulent cases as possible is the priority even at the risk of false positives, a recall model is recommended \n",
    "\n",
    "From our evaluations, charts and graphs show, the stacking model is shown to have the best tradeoff between precision and recall. Likely due to the meta-model leveraging both BRF’s recall and Boosts precision, leading to more optimized classification. BRF did have the highest recall, it suffers in poor precision, making its F1 score slightly better than our logistic model.\n",
    "By combining the strength of multiple models stacking is shown to have the highest F1-score, which is a balanced approach to fraud classification while minimizing our FPR. Being aware of your business needs is critical cause missing both missing fraud and misclassifying transactions carry significant risks. \n"
   ]
  },
  {
   "cell_type": "markdown",
   "metadata": {},
   "source": [
    "# Model Interpretation and Explainability"
   ]
  },
  {
   "cell_type": "markdown",
   "metadata": {},
   "source": [
    "After our model evaluation we investigated our feature importances to see if there were any similarities between the Balanced Random Forest and XGBoost models."
   ]
  },
  {
   "cell_type": "code",
   "execution_count": null,
   "metadata": {
    "tags": [
     "remove_cell"
    ]
   },
   "outputs": [],
   "source": [
    "df2 = pd.concat([train_df, test_df], axis=0)"
   ]
  },
  {
   "cell_type": "code",
   "execution_count": null,
   "metadata": {
    "tags": [
     "remove_input"
    ]
   },
   "outputs": [
    {
     "data": {
      "image/png": "[encoded data removed]",
      "text/plain": [
       "<Figure size 800x800 with 2 Axes>"
      ]
     },
     "metadata": {},
     "output_type": "display_data"
    }
   ],
   "source": [
    "_, ax = plt.subplots(2, 1, figsize=(8, 8))\n",
    "\n",
    "brf_importances = pd.DataFrame({'Features': engineered_features, 'BRF': brf_model.feature_importances_})\n",
    "xgb_importances = pd.DataFrame({'Features': engineered_features, 'XGB': xgb_model.feature_importances_})\n",
    "\n",
    "sns.barplot(y=\"Features\", x=\"BRF\", ax=ax[0], data=brf_importances.sort_values(by=\"BRF\", ascending=False))\n",
    "ax[0].set(xlabel = \"Feature Importance Score (BRF)\", ylabel=\"Features\")\n",
    "sns.barplot(y=\"Features\", x=\"XGB\", ax=ax[1], data=xgb_importances.sort_values(by=\"XGB\", ascending=False))\n",
    "ax[1].set(xlabel = \"Feature Importance Score (XGB)\", ylabel=\"Features\");"
   ]
  },
  {
   "cell_type": "markdown",
   "metadata": {},
   "source": [
    "Both models shown that `TERMINAL_FRAUD_RATIO_28D`as the most important feature, indicating that historical fraudulent active over a 28-day rolling period plays a significant role in fraud detection. Additionally, `SPENDING_Z_SCORE_28D` ranked 3rd in BRF and 2nd in XGBoost suggesting that deviation in customer spending habits also contributes to fraud classification. To better understand why these features were important to our model with visualized their distribution to explain their predictive power. Since `TERMINAL_FRAUD_RATIO_28D` already provides a longer outlook, we decided to only at this one instead of the TERMINAL_FRAUD_RATIO_7D"
   ]
  },
  {
   "cell_type": "markdown",
   "metadata": {},
   "source": [
    "### Upon examination of `TERMINAL_FRAUD_RATIO_28D`:"
   ]
  },
  {
   "cell_type": "code",
   "execution_count": null,
   "metadata": {
    "tags": [
     "remove_input"
    ]
   },
   "outputs": [
    {
     "data": {
      "image/png": "[encoded data removed]",
      "text/plain": [
       "<Figure size 800x400 with 1 Axes>"
      ]
     },
     "metadata": {},
     "output_type": "display_data"
    }
   ],
   "source": [
    "terminal_fraud_ratio_28d_nonfraud = pd.DataFrame(df2[df2['TX_FRAUD'] == 0][\"TERMINAL_FRAUD_RATIO_28D\"])\n",
    "terminal_fraud_ratio_28d_fraud = pd.DataFrame(df2[df2['TX_FRAUD'] == 1][\"TERMINAL_FRAUD_RATIO_28D\"])\n",
    "\n",
    "_, ax = plt.subplots(1, 1, figsize=(8, 4))\n",
    "_.tight_layout(h_pad=4)\n",
    "\n",
    "terminal_fraud_ratio_28d_nonfraud.plot(kind='hist', ax=ax, bins=50, logy=True, color='cornflowerblue', alpha=0.5)\n",
    "terminal_fraud_ratio_28d_fraud.plot(kind='hist', ax=ax, bins=50, logy=True, color='limegreen', alpha=0.5)\n",
    "\n",
    "ax.set(xlabel = \"Terminal Fraud Ratio\", ylabel=\"Log Count\",\n",
    "          title=\"Distribution of Terminal Fraud Ratio within a 28-Day Rolling Window\");\n",
    "ax.legend([\"Non-Fraudulent Transactions\", \"Fraudulent Transactions\"]);"
   ]
  },
  {
   "cell_type": "markdown",
   "metadata": {},
   "source": [
    "The distribution of fraud within a 28 day rolling windows confirms why`TERMINAL_FRAUD_RATIO_28D`is the most important feature in our detection model. From the graph Fraudulent transaction cluster when the fraud ration is above 0.2. Which reinforces our idea that past fraud activity at the terminal is a predictor of future fraudulent occurrences. \n",
    "However, the graph shows that fraud still occurs at terminals with low historical fraud trend, which means in our model we cannot solely be reliant on this feature because it will miss fraud on terminal with no previous occurrences at it. Which emphasizes our need for customer-level features such as `SPENDING_Z_SCORE_28D. \n",
    "The logarithmic scale shows the extreme class imbalances in our problem, with our legitimate transaction outnumbering the fraudulent cases, which shows the importance of the precision-recall trade during our model evaluation. This specific feature is a powerful tool to predict our objective but it need to be combined with our customer specific metrics to improve our detection and reduce false positives. "
   ]
  },
  {
   "cell_type": "markdown",
   "metadata": {},
   "source": [
    "### Upon examination of `SPENDING_Z_SCORE_28D`:"
   ]
  },
  {
   "cell_type": "code",
   "execution_count": null,
   "metadata": {
    "tags": [
     "remove_input"
    ]
   },
   "outputs": [
    {
     "data": {
      "image/png": "[encoded data removed]",
      "text/plain": [
       "<Figure size 800x800 with 2 Axes>"
      ]
     },
     "metadata": {},
     "output_type": "display_data"
    }
   ],
   "source": [
    "_, ax = plt.subplots(2, 1, figsize=(8, 8))\n",
    "_.tight_layout(h_pad=4)\n",
    "sns.set_theme(style=\"darkgrid\")\n",
    "\n",
    "sns.histplot(data=df2[df2['TX_FRAUD'] == 0], x='SPENDING_Z_SCORE_28D', ax=ax[0], bins=100, color='cornflowerblue')\n",
    "ax[0].set(xlabel = \"Customer Spending Z-Scores\", ylabel=\"Count\",\n",
    "          title=\"Distribution of Customer Spending Z-Scores within a 28-Day Rolling Window for Non-Fraudulent Transactions\");\n",
    "sns.histplot(data=df2[df2['TX_FRAUD'] == 1], x='SPENDING_Z_SCORE_28D', ax=ax[1], color='limegreen')\n",
    "ax[1].set(xlabel = \"Customer Spending Z-Scores\", ylabel=\"Count\",\n",
    "          title=\"Distribution of Customer Spending Z-Scores within a 28-Day Rolling Window for Fraudulent Transactions\");"
   ]
  },
  {
   "cell_type": "markdown",
   "metadata": {},
   "source": [
    "`SPENDING_Z_SCORE_28D` provided valuable information on how customer spending behavior can impact classification. From non-fraudulent the distribution (Top Graph) is centered around 0, like a normal distribution, which suggests that most customers have predicable spending habits. In comparison fraudulent transactions have a peak of around 0 and display a wider range of values. Which shoes large deviation from the predictable spending habits of customer is a strong indicator of fraud. The difference in those distributions were made more distinct due to our feature engineering process which transformed the raw transaction data into actionable behavioral metrics which helps our model differentiate between the two classes more effectively. With incorporating both population-based features like `TERMINAL_FRAUD_RATIO_28D`and customer-based features, we improved our model’s ability to find trend that we are not obvious from the raw data alone. \n",
    "When creating fraud classification model, balancing the false positives (incorrectly flagging legitimate transactions) and false negatives (failing to detect fraud) is paramount. If it produces too many false positives, customers will experience unnecessary declines leading to customers leaving the financial institution. If we have too many transactions that are fraud and are still processed, it leads to financial loses to banks and merchants. Precision and Recall have an inverse relationship, improving one involves sacrificing the other. Due to our previous experiences with fraud and imbalanced data we went directly to more complex models like Balanced Random Forest (BRF) and XGBoost over simpler model like logistic regression. Logistic regression provides interpretability through feature coefficients, it assumes a linear relationship between features, which limits its ability to find complex trends in behavior. BRF and XGBoost can model non-linear relationships in the data and capture complex trends without making assumption about the underlying data at a cost of these model are now “Black Boxes” which makes their decision hard to interpret which poses regulatory and legal hurdles which justifying the fraud classification. \n",
    "We chose the model that achieved the best balance in both fraud detection and minimizing false positives and leveraging the strengths and weakness of multiple models. Depending on business fraud strategies, different models can be optimized to prioritize business needs. By applying feature engineering techniques, we created a way to make the difference between transactions distinct so our model could be able to differentiate between them, make it more efficient and reliable. \n",
    "In real world deployment, fraud detection models are more than what on paper the most optimized it must also align with business need and regulatory compliance. Future work could explore more options to tune fraud thresholds or add more adaptive techniques. In essence, fraud detection comes down to the continues observation of data and combating the ever-evolving fraud tactics and combating them with statistical model. \n"
   ]
  },
  {
   "cell_type": "markdown",
   "metadata": {},
   "source": [
    "# Conclusion"
   ]
  },
  {
   "cell_type": "markdown",
   "metadata": {},
   "source": [
    "When fitting our models onto the feature-engineered dataset, we specifically chose the features from our exploratory data analysis that would have an impact on detecting fraud. However, there could possibly be other features we additional features that we did not incorporate such as CUSTOMER_ID based behavioral trends or temporal variations inTX_DATETIME, that could further improve our model. Given more time and computational power was a consideration, we didn’t focus on tuning any hyperparameters for our models. With each of these models being considered a base model, they performed better than expected, which showed the effectiveness of our feature engineering. If we had additional time and computational power, we could have used additional time to improve these models by adjusting hyperparameters to achieve a higher F1 score."
   ]
  },
  {
   "cell_type": "markdown",
   "metadata": {},
   "source": [
    "To test the importance of feature engineering, we ran our original data (without feature engineering) through a BRF model to evalue its performance. The results were significantly worse:"
   ]
  },
  {
   "cell_type": "code",
   "execution_count": 68,
   "metadata": {
    "tags": [
     "remove_input"
    ]
   },
   "outputs": [
    {
     "data": {
      "application/vnd.microsoft.datawrangler.viewer.v0+json": {
       "columns": [
        {
         "name": "index",
         "rawType": "object",
         "type": "string"
        },
        {
         "name": "Score",
         "rawType": "float64",
         "type": "float"
        }
       ],
       "conversionMethod": "pd.DataFrame",
       "ref": "ef0af8bc-3a57-463b-b7eb-cc3079558f2b",
       "rows": [
        [
         "Precision",
         "0.021449540705199027"
        ],
        [
         "Recall",
         "0.42776203966005666"
        ],
        [
         "F1",
         "0.04085068009318404"
        ],
        [
         "PR-AUC",
         "0.23750672433313524"
        ],
        [
         "FPR",
         "0.17640113126162985"
        ]
       ],
       "shape": {
        "columns": 1,
        "rows": 5
       }
      },
      "text/html": [
       "<div>\n",
       "<style scoped>\n",
       "    .dataframe tbody tr th:only-of-type {\n",
       "        vertical-align: middle;\n",
       "    }\n",
       "\n",
       "    .dataframe tbody tr th {\n",
       "        vertical-align: top;\n",
       "    }\n",
       "\n",
       "    .dataframe thead th {\n",
       "        text-align: right;\n",
       "    }\n",
       "</style>\n",
       "<table border=\"1\" class=\"dataframe\">\n",
       "  <thead>\n",
       "    <tr style=\"text-align: right;\">\n",
       "      <th></th>\n",
       "      <th>Score</th>\n",
       "    </tr>\n",
       "  </thead>\n",
       "  <tbody>\n",
       "    <tr>\n",
       "      <th>Precision</th>\n",
       "      <td>0.021450</td>\n",
       "    </tr>\n",
       "    <tr>\n",
       "      <th>Recall</th>\n",
       "      <td>0.427762</td>\n",
       "    </tr>\n",
       "    <tr>\n",
       "      <th>F1</th>\n",
       "      <td>0.040851</td>\n",
       "    </tr>\n",
       "    <tr>\n",
       "      <th>PR-AUC</th>\n",
       "      <td>0.237507</td>\n",
       "    </tr>\n",
       "    <tr>\n",
       "      <th>FPR</th>\n",
       "      <td>0.176401</td>\n",
       "    </tr>\n",
       "  </tbody>\n",
       "</table>\n",
       "</div>"
      ],
      "text/plain": [
       "              Score\n",
       "Precision  0.021450\n",
       "Recall     0.427762\n",
       "F1         0.040851\n",
       "PR-AUC     0.237507\n",
       "FPR        0.176401"
      ]
     },
     "execution_count": 68,
     "metadata": {},
     "output_type": "execute_result"
    }
   ],
   "source": [
    "split_point = df['TX_TIME_DAYS'].quantile(0.8)\n",
    "base_train_df = df[df['TX_TIME_DAYS'] < split_point].copy()\n",
    "base_test_df = df[df['TX_TIME_DAYS'] >= split_point].copy()\n",
    "\n",
    "# Extract features and target variable\n",
    "base_features = ['CUSTOMER_ID', 'TERMINAL_ID', 'TX_AMOUNT', 'TX_TIME_SECONDS', 'TX_TIME_DAYS', 'TX_HOUR', 'TX_DAYOFWEEK']\n",
    "target = 'TX_FRAUD'\n",
    "\n",
    "X_train, y_train = base_train_df[base_features], base_train_df[target]\n",
    "X_test, y_test = base_test_df[base_features], base_test_df[target]\n",
    "\n",
    "# Initialize Balanced Random Forest\n",
    "base_brf_model = BalancedRandomForestClassifier(n_estimators=100, random_state=42, n_jobs=-1)\n",
    "\n",
    "base_brf_results = model_run(base_brf_model, train_df = base_train_df, test_df = base_test_df, features = base_features)\n",
    "\n",
    "pd.DataFrame({\"Score\": base_brf_results})"
   ]
  },
  {
   "cell_type": "markdown",
   "metadata": {},
   "source": [
    "With a precision rate of 0.02, recall rate of 0.43, and F1 score of 0.04, reinforcing the need for feature engineering. We made an assumption that the underlying nature of the data includes information that is not explained in the original dataset. "
   ]
  },
  {
   "cell_type": "markdown",
   "metadata": {},
   "source": [
    "For our chosen model, what decided to be the “best” we would, in this six-month time period the dataset spanned, have flagged roughly 5,820 incidents of fraud that are not and wouldn’t have caught roughly 4,390 fraudulent activities. Each of these causes monetary cost to the organization. Until further tuning, threshold adjusts, and real-world validation is conducted we would not recommend deploying these models in production environments, but this demonstrated a strong foundation in fraud classification and highlighting areas of improvement that can be made. "
   ]
  },
  {
   "cell_type": "markdown",
   "metadata": {},
   "source": [
    "# References"
   ]
  },
  {
   "cell_type": "markdown",
   "metadata": {},
   "source": [
    "\\raggedright\n",
    "\\begin{enumerate}\n",
    "\t\\item \\textbf{Credit Card Fraud Report:}\n",
    "\t\\url{https://www.security.org/digital-safety/credit-card-fraud-report/}\n",
    "\n",
    "\t\\item \\textbf{Credit Card Fraud Detection Dataset (Kaggle):}\n",
    "\t\\url{https://www.kaggle.com/datasets/mlg-ulb/creditcardfraud}\n",
    "\n",
    "\t\\item \\textbf{Fraud Detection Handbook - Simulated Dataset:}\n",
    "\t\\url{https://fraud-detection-handbook.github.io/fraud-detection-handbook/Chapter_3_GettingStarted/SimulatedDataset.html}\n",
    "\n",
    "\t\\item \\textbf{XGBoost Explained - A Beginner’s Guide:}  \n",
    "\t\\url{https://medium.com/low-code-for-advanced-data-science/xgboost-explained-a-beginners-guide-095464ad418f}\n",
    "\n",
    "\t\\item \\textbf{Combine Predictors Using Stacking:}\n",
    "    \\url{https://scikit-learn.org/stable/auto_examples/ensemble/plot_stack_predictors.html}\n",
    "\n",
    "\t\\item \\textbf{Ultimate Guide to Precision-Recall AUC:}\n",
    "\t\\url{https://www.aporia.com/learn/ultimate-guide-to-precision-recall-auc-understanding-calculating-using-pr-auc-in-ml/}\n",
    "\\end{enumerate}"
   ]
  }
 ],
 "metadata": {
  "kernelspec": {
   "display_name": "Python 3",
   "language": "python",
   "name": "python3"
  },
  "language_info": {
   "codemirror_mode": {
    "name": "ipython",
    "version": 3
   },
   "file_extension": ".py",
   "mimetype": "text/x-python",
   "name": "python",
   "nbconvert_exporter": "python",
   "pygments_lexer": "ipython3",
   "version": "3.12.3"
  }
 },
 "nbformat": 4,
 "nbformat_minor": 2
}
