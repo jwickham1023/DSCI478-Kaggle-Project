{
 "cells": [
  {
   "cell_type": "code",
   "execution_count": 8,
   "metadata": {},
   "outputs": [],
   "source": [
    "from traitlets.config import Config\n",
    "import nbformat\n",
    "from nbconvert.exporters import PDFExporter\n",
    "from nbconvert.writers import FilesWriter\n",
    "from nbconvert.preprocessors import TagRemovePreprocessor, LatexPreprocessor\n",
    "\n",
    "# Prepares preprocessors\n",
    "c = Config()\n",
    "c.TagRemovePreprocessor.enabled = True\n",
    "c.TagRemovePreprocessor.remove_input_tags = ['remove_input']\n",
    "c.TagRemovePreprocessor.remove_cell_tags = ['remove_cell']\n",
    "c.LatexPreprocessor.enabled = True\n",
    "c.LatexPreprocessor.title = \"DSCI478 Kaggle Project - Credit Card Fraud Detection\"\n",
    "c.LatexPreprocessor.author_names = [\"Nick Brady\", \"Jakob Wickham\"]\n",
    "\n",
    "c.PDFExporter.preprocessors = [\"nbconvert.preprocessors.TagRemovePreprocessor\",\n",
    "                               \"nbconvert.preprocessors.LatexPreprocessor\"]\n",
    "\n",
    "# Load the notebook\n",
    "with open('writeup.ipynb', 'r') as f:\n",
    "    nb = nbformat.read(f, as_version=4)\n",
    "\n",
    "# Prepares exporter\n",
    "exporter = PDFExporter(config=c)\n",
    "exporter.register_preprocessor(TagRemovePreprocessor(config=c), True)\n",
    "exporter.register_preprocessor(LatexPreprocessor(config=c), True)\n",
    "\n",
    "# Converts the notebook\n",
    "pdf_data, _ = exporter.from_notebook_node(nb)\n",
    "\n",
    "# Writes to file\n",
    "with open('writeup.pdf', 'wb') as f:\n",
    "    f.write(pdf_data)"
   ]
  }
 ],
 "metadata": {
  "kernelspec": {
   "display_name": "Python 3",
   "language": "python",
   "name": "python3"
  },
  "language_info": {
   "codemirror_mode": {
    "name": "ipython",
    "version": 3
   },
   "file_extension": ".py",
   "mimetype": "text/x-python",
   "name": "python",
   "nbconvert_exporter": "python",
   "pygments_lexer": "ipython3",
   "version": "3.12.3"
  }
 },
 "nbformat": 4,
 "nbformat_minor": 2
}
