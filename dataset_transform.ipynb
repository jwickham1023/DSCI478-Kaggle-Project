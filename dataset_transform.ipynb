{
 "cells": [
  {
   "cell_type": "code",
   "execution_count": 11,
   "metadata": {},
   "outputs": [],
   "source": [
    "import numpy as np\n",
    "import pandas as pd\n",
    "import os\n",
    "import random\n",
    "import time"
   ]
  },
  {
   "cell_type": "code",
   "execution_count": 12,
   "metadata": {},
   "outputs": [],
   "source": [
    "def is_weekend(datetime: pd.Timestamp) -> int:\n",
    "    return int(datetime.weekday() >= 5)"
   ]
  },
  {
   "cell_type": "code",
   "execution_count": 13,
   "metadata": {},
   "outputs": [],
   "source": [
    "def is_night(datetime: pd.Timestamp) -> int:\n",
    "    return int(datetime.hour < 6 or datetime.hour > 22)"
   ]
  },
  {
   "cell_type": "code",
   "execution_count": 14,
   "metadata": {},
   "outputs": [],
   "source": [
    "def get_customer_spending_behaviors(df: pd.DataFrame, day_windows: list[int]) -> pd.DataFrame:\n",
    "    df.sort_values(\"transaction_datetime\", inplace=True)\n",
    "    df.index = df[\"transaction_datetime\"]\n",
    "    \n",
    "    for window in day_windows:\n",
    "        df[f\"customer_num_transactions_{window}_days\"] = df[\"amount\"].rolling(str(window) + \"d\").count()\n",
    "        df[f\"customer_avg_spent_{window}_days\"] = df[\"amount\"].rolling(str(window) + \"d\").mean()\n",
    "    \n",
    "    df.index = df[\"transaction_id\"]\n",
    "    \n",
    "    return df"
   ]
  },
  {
   "cell_type": "code",
   "execution_count": 15,
   "metadata": {},
   "outputs": [],
   "source": [
    "def get_terminal_risks(df: pd.DataFrame, delay: int = 7, day_windows: list[int] = [1, 7, 30]) -> pd.DataFrame:\n",
    "    df.sort_values(\"transaction_datetime\", inplace=True)\n",
    "    df.index = df[\"transaction_datetime\"]\n",
    "    \n",
    "    transactions_delay = df[\"fraud\"].rolling(str(delay) + \"d\").count()\n",
    "    fraudulent_delay = df[\"fraud\"].rolling(str(delay) + \"d\").sum()\n",
    "    \n",
    "    for window in day_windows:\n",
    "        transactions_delay_window = df[\"fraud\"].rolling(str(window + delay) + \"d\").count()\n",
    "        fraudulent_delay_window = df[\"fraud\"].rolling(str(window + delay) + \"d\").sum()\n",
    "        \n",
    "        transactions_window = transactions_delay_window - transactions_delay\n",
    "        fraudulent_window = fraudulent_delay_window - fraudulent_delay\n",
    "        \n",
    "        risk_window = fraudulent_window / transactions_window\n",
    "        \n",
    "        df[f\"terminal_num_transactions_{window}_days\"] = list(transactions_window)\n",
    "        df[f\"terminal_risk_{window}_days\"] = list(risk_window)\n",
    "    \n",
    "    df.index = df[\"transaction_id\"]\n",
    "    \n",
    "    df.fillna(0, inplace=True)\n",
    "    \n",
    "    return df"
   ]
  },
  {
   "cell_type": "code",
   "execution_count": 16,
   "metadata": {},
   "outputs": [],
   "source": [
    "df = pd.read_csv(\"datasets/transactions.csv\")\n",
    "\n",
    "df[\"transaction_datetime\"] = pd.to_datetime(df[\"transaction_datetime\"])"
   ]
  },
  {
   "cell_type": "code",
   "execution_count": 17,
   "metadata": {},
   "outputs": [],
   "source": [
    "df[\"is_weekend\"] = df[\"transaction_datetime\"].apply(is_weekend)\n",
    "df[\"is_night\"] = df[\"transaction_datetime\"].apply(is_night)"
   ]
  },
  {
   "cell_type": "code",
   "execution_count": 18,
   "metadata": {},
   "outputs": [
    {
     "name": "stderr",
     "output_type": "stream",
     "text": [
      "C:\\Users\\wickh\\AppData\\Local\\Temp\\ipykernel_34836\\3185984646.py:1: DeprecationWarning: DataFrameGroupBy.apply operated on the grouping columns. This behavior is deprecated, and in a future version of pandas the grouping columns will be excluded from the operation. Either pass `include_groups=False` to exclude the groupings or explicitly select the grouping columns after groupby to silence this warning.\n",
      "  df = df.groupby(\"customer_id\").apply(get_customer_spending_behaviors, day_windows=[1, 7, 30]).sort_values(\"transaction_datetime\").reset_index(drop=True)\n"
     ]
    }
   ],
   "source": [
    "df = df.groupby(\"customer_id\").apply(get_customer_spending_behaviors, day_windows=[1, 7, 30]).sort_values(\"transaction_datetime\").reset_index(drop=True)"
   ]
  },
  {
   "cell_type": "code",
   "execution_count": 19,
   "metadata": {},
   "outputs": [
    {
     "name": "stderr",
     "output_type": "stream",
     "text": [
      "C:\\Users\\wickh\\AppData\\Local\\Temp\\ipykernel_34836\\2897915018.py:1: DeprecationWarning: DataFrameGroupBy.apply operated on the grouping columns. This behavior is deprecated, and in a future version of pandas the grouping columns will be excluded from the operation. Either pass `include_groups=False` to exclude the groupings or explicitly select the grouping columns after groupby to silence this warning.\n",
      "  df = df.groupby(\"terminal_id\").apply(get_terminal_risks, delay=7, day_windows=[1, 7, 30]).sort_values(\"transaction_datetime\").reset_index(drop=True)\n"
     ]
    }
   ],
   "source": [
    "df = df.groupby(\"terminal_id\").apply(get_terminal_risks, delay=7, day_windows=[1, 7, 30]).sort_values(\"transaction_datetime\").reset_index(drop=True)"
   ]
  },
  {
   "cell_type": "code",
   "execution_count": 20,
   "metadata": {},
   "outputs": [],
   "source": [
    "df.to_csv(\"datasets/transactions_transformed.csv\", index=False)"
   ]
  }
 ],
 "metadata": {
  "kernelspec": {
   "display_name": "Python 3",
   "language": "python",
   "name": "python3"
  },
  "language_info": {
   "codemirror_mode": {
    "name": "ipython",
    "version": 3
   },
   "file_extension": ".py",
   "mimetype": "text/x-python",
   "name": "python",
   "nbconvert_exporter": "python",
   "pygments_lexer": "ipython3",
   "version": "3.12.3"
  }
 },
 "nbformat": 4,
 "nbformat_minor": 2
}
